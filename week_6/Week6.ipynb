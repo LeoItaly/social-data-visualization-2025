{
 "cells": [
  {
   "cell_type": "markdown",
   "metadata": {},
   "source": [
    "## Intro\n",
    "\n",
    "[Good news everyone!](https://www.youtube.com/watch?v=ZxoNhqmEsnY) It's an easier day today `:)`\n",
    "\n",
    "The purpose of today's class is to explore data using **interactive visualizations**. Interactivity is a key part of modern dataviz. It's a way to allow users of your visualizations get their own feel for the data ... to create richer visualization, where people who use your work can expose more of the data by exploring."
   ]
  },
  {
   "cell_type": "markdown",
   "metadata": {},
   "source": [
    "## Part 1: Video Lectures and Reading\n",
    "\n",
    "Starting this week, we'll be playing around with *explanatory data visualization*. Roughly speaking this means using data visualization to communicate your results to others. Thus, there are new things to think about. \n",
    "\n",
    "Until today we have worked with static data visualization. However, exploratory data analysis means to be able to explore the multi-faceted nature of data and *interactive dataviz* is a handy tool to do it! It allows to play with the data: Toggle the view. Zoom. Drag. Show more details. All those things. Those are a key part of modern data visualization. \n",
    "\n",
    "The video below provides context about these points.\n",
    "\n",
    "We start with the video and then read a bit from a scientific article about types of explanatory dataviz. (*The video is from an old version of the class that used D3, so just ignore those parts.*)."
   ]
  },
  {
   "cell_type": "code",
   "execution_count": 1,
   "metadata": {},
   "outputs": [
    {
     "data": {
      "image/jpeg": "[encoded data removed]",
      "text/html": [
       "\n",
       "        <iframe\n",
       "            width=\"800\"\n",
       "            height=\"450\"\n",
       "            src=\"https://www.youtube.com/embed/yHKYMGwefso\"\n",
       "            frameborder=\"0\"\n",
       "            allowfullscreen\n",
       "            \n",
       "        ></iframe>\n",
       "        "
      ],
      "text/plain": [
       "<IPython.lib.display.YouTubeVideo at 0x2ac5f97fb00>"
      ]
     },
     "execution_count": 1,
     "metadata": {},
     "output_type": "execute_result"
    }
   ],
   "source": [
    "from IPython.display import YouTubeVideo\n",
    "YouTubeVideo('yHKYMGwefso', width=800, height=450)"
   ]
  },
  {
   "cell_type": "markdown",
   "metadata": {},
   "source": [
    "> *Exercises*: Explanatory data visualization. \n",
    "> * What are the three key elements to keep in mind when you design an explanatory visualization?\n",
    "> * In the video I talk about (1) *overview first*,  (2) *zoom and filter*,  (3) *details on demand*. \n",
    ">   - Go online and find a visualization that follows these principles (don't use one from the video). \n",
    ">   - Explain how your video achieves (1)-(3). It might be useful to use screenshots to illustrate your explanation.\n",
    "> * Explain in your own words: How is explanatory data analysis different from exploratory data analysis?\n",
    ">\n",
    "> **Note**. Keep your answers to the questions above short and sweet.\n",
    "\n",
    "<div class=\"alert alert-block alert-info\">\n",
    "Try to answer these using your human brain.\n",
    "</div>"
   ]
  },
  {
   "cell_type": "markdown",
   "metadata": {},
   "source": [
    "1. Explanatory data analysis: \n",
    "- Start with a question (WHat is that we ant to communicate)\n",
    "- Allow exploration\n",
    "- Know your readers\n",
    "\n",
    "3.  \n",
    "**Explanatory** focuses on explaining patterns and insights found in the data to support a specific hypothesis or story. It is typically used after exploration, aiming to communicate findings clearly, often through well-designed visuals.\n",
    "\n",
    "**Exploratory** is about discovering patterns, trends, and anomalies without a specific question in mind. It’s more open-ended, helping you understand the structure of the data and generate hypotheses.\n",
    "\n",
    "- Exploratory = Discovering\n",
    "- Explanatory = Communicating"
   ]
  },
  {
   "cell_type": "markdown",
   "metadata": {},
   "source": [
    "## Gapminder’s Interactive World Health Chart\n",
    "One excellent example of a public data visualization following Shneiderman’s “overview, zoom/filter, details” mantra is Gapminder’s interactive bubble chart of global health and wealth. This web-based tool (available on the Gapminder site) visualizes all countries by their life expectancy (y-axis) and income per person (x-axis), with bubble size representing population and color indicating region​. For further deatils look into the website: [Gapminder](https://www.gapminder.org/tag/chart/#:~:text=This%20chart%20shows%20the%20Life,Color%20is%20region)"
   ]
  },
  {
   "cell_type": "markdown",
   "metadata": {},
   "source": [
    "### (1) *overview first*\n",
    "Gapminder’s bubble chart provides an overview of the entire dataset at a glance. In its default view, every country in the world is displayed as a bubble positioned by income and life expectancy (e.g. the static snapshot above shows all 182 nations in 2015) . This comprehensive layout lets users immediately see broad patterns and comparisons – for example, how higher-income countries tend to have longer lifespans, and the spread of countries across different income levels​. By presenting the whole dataset upfront, the visualization gives context and a “big picture” understanding before any drilling down occurs​. \n",
    "\n",
    "![image](../images/week_6_research.png)"
   ]
  },
  {
   "cell_type": "markdown",
   "metadata": {},
   "source": [
    "### (2) *zoom and filter*\n",
    "The Gapminder tool then allows users to zoom in and filter the data to focus on subsets or specific ranges of interest. For instance, you can interactively adjust the chart’s axes (switching to a linear or logarithmic scale) to zoom into a crowded region of the plot or highlight variation among lower-income countries​. You can also filter or select specific groups – e.g. toggling regions or individual countries. The interface includes a play slider for year, so you can filter by time (viewing a particular year or animating through years). Users can even highlight a subset of nations (for example, selecting certain countries or continents) to examine them separately​.These features effectively let the viewer narrow their focus, drilling down from the initial overview to the details that interest them, all while still being able to pan or zoom out to maintain context as needed. For further details visit [Link](https://visualign.org/2011/07/28/bubble-charts-and-gapminders-trendalyzer/#:~:text=With%20the%20Trendalyzer%20you%20can,of%20the%20same%20data%20set)"
   ]
  },
  {
   "cell_type": "markdown",
   "metadata": {},
   "source": [
    "### (3) *details on demand*\n",
    "\n",
    "Finally, the visualization provides details on demand for any specific data point without overwhelming the initial view. When you hover over or click on a country’s bubble, a tooltip or label will appear showing that country’s name and the exact values (e.g. life expectancy, income, population, year) for that point in time. In Gapminder’s chart, for example, you might hover over the large red bubble for China and see a popup with China’s life expectancy and GDP per capita for the current year."
   ]
  },
  {
   "cell_type": "markdown",
   "metadata": {},
   "source": [
    "## Part 2: Interactive visualizations with Bokeh\n",
    "\n",
    "\n",
    "\n",
    "To really master interactive visualizations, you will need to work with JavaScript, especially [D3](https://d3js.org). Given the limited time available for this class, we can't squeeze that in. But luckily Python has some pretty good options for interactive visualizations. You can find a range of different options [here](https://mode.com/blog/python-interactive-plot-libraries/).\n",
    "\n",
    "Today, we'll explore [`Bokeh`](https://docs.bokeh.org/en/latest/), which provides lots of nice interactive funtionalities to Python. To work with Bokeh, we first set up our system:\n",
    "\n",
    "1. If you haven't installed it yet please do so. You can simply follow [these steps](https://docs.bokeh.org/en/latest/docs/first_steps/installation.html)\n",
    "\n",
    "2. To include Bokeh in your notebooks you can follow the [Bokeh: Using with Jupyter](https://docs.bokeh.org/en/latest/docs/user_guide/output/jupyter.html#jupyter) guide. Come back to this one when you need it\n",
    "\n",
    "3. We aim to give you a gentle start with Bokeh and I am going to include more example code than usual in the follwing.\n",
    "   * **HINT 1**: If you're not an experienced Python user, I recommend going to the [official user's guide](https://docs.bokeh.org/en/latest/docs/user_guide.html#userguide) and working through it. Start by clicking \"Introduction\" in the linked page. That page has a glossary, a section on output methods, stuff on settings, and interfaces that you can scroll through. The next page *Basic Plotting* where the action is. Spend some time working through that.\n",
    "   * **HINT 2**: And by \"working through it\", I mean copy, paste, and run the code in your own notebook. "
   ]
  },
  {
   "cell_type": "markdown",
   "metadata": {},
   "source": [
    "Ok. Let's get started. First a general announcement on the data.\n",
    "\n",
    "> **Announcement**\n",
    "> * During this entire lecture, as always, we are going to work with the SF Crime Data. \n",
    "> * We will use data for the **period 2014-2024** (Jan 1st 2014 to Dec 31 2024).\n",
    "> * We'll consider only the 10 focus crimes.\n",
    "\n",
    "\n",
    "Now, to get you in the mood here's a little gif to illustrate what the goal of this exercise is:"
   ]
  },
  {
   "cell_type": "markdown",
   "metadata": {},
   "source": [
    "![Movie](https://raw.githubusercontent.com/suneman/socialdata2025/main/files/Week6_1.gif)\n",
    "\n",
    "If the gif isn't displaying on your system, you can download it [here](https://github.com/suneman/socialdata2025/blob/main/files/Week6_1.gif) and display locally."
   ]
  },
  {
   "cell_type": "markdown",
   "metadata": {},
   "source": [
    "\n",
    "> ***Exercise***: Recreate a new version of the results from **Week 2** (with updated dates) as an interactive visualisation (shown in the gif). To complete the exercise, follow the steps below to create your own version of the dataviz.\n",
    "\n",
    "<div class=\"alert alert-block alert-info\">\n",
    "To learn about Bokeh and how it works, try to do this without LLM help. Only use if you get totally stuck after having tried all the various hints, and read the documentation. (Plus, notice the text en gray about the caption at the very end.)\n",
    "</div>\n",
    "\n",
    "### Data prep\n",
    "\n",
    "A key step is to set up the data right. So for this one, we'll be pretty strict about the steps. The workflow is\n",
    "\n",
    "1. Take the data for the period of 2014-2024 and group it by hour-of-the-day.\n",
    "2. We would like to be able to easily compare how the distribution of crimes differ from each other, not absolute numbers, so we will work on *normalized data*:\n",
    "    * To normalise data for within a crime category you simply to devide the count for each hour by the total number of this crime type. (To give a concrete example in the `DRUG/NARCOTIC` category, take the number of drug/narcotics-counts in 1st hour you should devide by the total number of drug/narcotic arrests, then you devide number of drug/narcotics-counts in 2nd hour by the total number of drug/narcotics arrests and so on)\n",
    "    *  Your life will be easiest if you organize your dataframe as shown in [this helpful screenshot](https://github.com/suneman/socialdata2025/blob/main/files/W6_Part2_data.png).\n",
    "\n",
    "If you've followed these steps, your data should be ready! Take a moment to celebrate. Below, we follow the [Bokeh guide for categorical data](https://docs.bokeh.org/en/latest/docs/user_guide/basic/bars.html).\n",
    "\n",
    "\n",
    "1. First, let's convert our **Pandas Dataframe** to **Bokeh ColumnDataSource**:\n",
    "   \n",
    "  > ```python\n",
    "  > source = ColumnDataSource(your_processed_dataframe)\n",
    "  > ## it is a standard way to convert your df to bokeh\n",
    "  > ```\n",
    "\n",
    "2. We also need to create an empty figure (we will add our stuff here later on). Mini sub-exercise: Find the a guide how to define a figure in Bokeh online. Here is a little help:\n",
    "  \n",
    "  > ```python\n",
    "  > p = figure(...., x_range = FactorRange(factors=hours), ...) \n",
    "  > #p is a standard way to call figures in Bokeh\n",
    "  > #make sure to add x_range. In my case hours is a list on the form ['1', '2', '3' ... , '24']\n",
    "  > #read up on the FactorRange in the guide\n",
    "  > #do not forget to add other attributes to the figure, e.g. title, axis names and so on\n",
    "  > ```\n",
    "\n",
    "3. Now we are going to add the bars. In order to do so, we will use **vbar** (see the guide for help):\n",
    "  \n",
    "  > ```python\n",
    "  > bar ={} # to store vbars\n",
    "  > ### here we will do a for loop:\n",
    "  > for indx,i in enumerate(focuscrimes):\n",
    "  >     bar[i] = p.vbar(x='name_of_the_column_that_contain_hours',  top=i, source= src, \n",
    "  >                     ### we will create a vbar for each focuscrime\n",
    "  >                     legend_label=i,  muted_alpha=..., muted = ....) \n",
    "  > #i stands for a column that we use, top=y; we are specifying that our numbers comes from column i\n",
    "  > #read up what legend_label, muted and muted_alpha do... you can add more attributes (you HAVE TO)\n",
    "  > ```\n",
    "\n",
    "4. The last thing to do is to make your legend interactive and display the figure:\n",
    "  \n",
    "  > ```python\n",
    "  > p.legend.click_policy=\"mute\" ### assigns the click policy (you can try to use ''hide'\n",
    "  > show(p) #displays your plot\n",
    "  > ```\n",
    "\n",
    "5. You will notice that the legend appears in the middle of the figure (and it occludes some of the data). In order to fix this look into [this guide](https://stackoverflow.com/questions/26254619/position-of-the-legend-in-a-bokeh-plot) as a start. <p style=\"color: gray;\">It is OK to use an LLM for help on this part - the Bokeh documentation has changed over time, so this part is a little tricky.</p>\n",
    "  \n",
    "Now you should be able to recreate this amazing visualisation.\n",
    "\n",
    "\n",
    "**EXTRA feature**: If you're interested in detailed instructions for more Bokeh visualizations for your final project, you can find more inspiration **[here](https://github.com/suneman/socialdata2021/blob/main/lectures/Week8_extra_bokeh.ipynb)**."
   ]
  },
  {
   "cell_type": "code",
   "execution_count": 2,
   "metadata": {},
   "outputs": [],
   "source": [
    "import pandas as pd\n",
    "from bokeh.plotting import figure, show\n",
    "from bokeh.models import ColumnDataSource, FactorRange, HoverTool, CustomJS, Select, Slider\n",
    "from bokeh.layouts import column, row\n",
    "from bokeh.io import output_notebook"
   ]
  },
  {
   "cell_type": "code",
   "execution_count": 3,
   "metadata": {},
   "outputs": [
    {
     "data": {
      "text/plain": [
       "array([2014, 2015, 2016, 2017, 2018, 2019, 2020, 2021, 2022, 2023, 2024])"
      ]
     },
     "execution_count": 3,
     "metadata": {},
     "output_type": "execute_result"
    }
   ],
   "source": [
    "df = pd.read_csv('../Assignment/merged_data.csv')\n",
    "df = df[(df['Year'] >= 2014) & (df['Year'] <= 2024)]\n",
    "df['Year'].sort_values().unique()"
   ]
  },
  {
   "cell_type": "code",
   "execution_count": 4,
   "metadata": {},
   "outputs": [
    {
     "data": {
      "text/plain": [
       "array(['ASSAULT', 'BURGLARY', 'DRUG/NARCOTIC', 'LARCENY/THEFT',\n",
       "       'PROSTITUTION', 'ROBBERY', 'STOLEN PROPERTY', 'VANDALISM',\n",
       "       'VEHICLE THEFT', 'WEAPON LAWS'], dtype=object)"
      ]
     },
     "execution_count": 4,
     "metadata": {},
     "output_type": "execute_result"
    }
   ],
   "source": [
    "focuscrimes = [\n",
    "    'WEAPON LAWS', 'PROSTITUTION', 'ROBBERY', 'BURGLARY',\n",
    "    'ASSAULT', 'DRUG/NARCOTIC', 'LARCENY/THEFT',\n",
    "    'VANDALISM', 'VEHICLE THEFT', 'STOLEN PROPERTY'\n",
    "]\n",
    "df = df[df['Category'].isin(focuscrimes)]\n",
    "df['Category'].sort_values().unique()"
   ]
  },
  {
   "cell_type": "code",
   "execution_count": 5,
   "metadata": {},
   "outputs": [
    {
     "data": {
      "text/plain": [
       "array([ 0,  1,  2,  3,  4,  5,  6,  7,  8,  9, 10, 11, 12, 13, 14, 15, 16,\n",
       "       17, 18, 19, 20, 21, 22, 23])"
      ]
     },
     "execution_count": 5,
     "metadata": {},
     "output_type": "execute_result"
    }
   ],
   "source": [
    "df['Hour'] = df['Time'].str.slice(0, 2).astype(int)\n",
    "df['Hour'].sort_values().unique()"
   ]
  },
  {
   "cell_type": "code",
   "execution_count": 6,
   "metadata": {},
   "outputs": [
    {
     "data": {
      "text/html": [
       "<div>\n",
       "<style scoped>\n",
       "    .dataframe tbody tr th:only-of-type {\n",
       "        vertical-align: middle;\n",
       "    }\n",
       "\n",
       "    .dataframe tbody tr th {\n",
       "        vertical-align: top;\n",
       "    }\n",
       "\n",
       "    .dataframe thead th {\n",
       "        text-align: right;\n",
       "    }\n",
       "</style>\n",
       "<table border=\"1\" class=\"dataframe\">\n",
       "  <thead>\n",
       "    <tr style=\"text-align: right;\">\n",
       "      <th>Category</th>\n",
       "      <th>ASSAULT</th>\n",
       "      <th>BURGLARY</th>\n",
       "      <th>DRUG/NARCOTIC</th>\n",
       "      <th>LARCENY/THEFT</th>\n",
       "      <th>PROSTITUTION</th>\n",
       "      <th>ROBBERY</th>\n",
       "      <th>STOLEN PROPERTY</th>\n",
       "      <th>VANDALISM</th>\n",
       "      <th>VEHICLE THEFT</th>\n",
       "      <th>WEAPON LAWS</th>\n",
       "    </tr>\n",
       "    <tr>\n",
       "      <th>Hour</th>\n",
       "      <th></th>\n",
       "      <th></th>\n",
       "      <th></th>\n",
       "      <th></th>\n",
       "      <th></th>\n",
       "      <th></th>\n",
       "      <th></th>\n",
       "      <th></th>\n",
       "      <th></th>\n",
       "      <th></th>\n",
       "    </tr>\n",
       "  </thead>\n",
       "  <tbody>\n",
       "    <tr>\n",
       "      <th>0</th>\n",
       "      <td>0.048897</td>\n",
       "      <td>0.054130</td>\n",
       "      <td>0.030540</td>\n",
       "      <td>0.042763</td>\n",
       "      <td>0.098544</td>\n",
       "      <td>0.046498</td>\n",
       "      <td>0.046902</td>\n",
       "      <td>0.053830</td>\n",
       "      <td>0.039043</td>\n",
       "      <td>0.053795</td>\n",
       "    </tr>\n",
       "    <tr>\n",
       "      <th>1</th>\n",
       "      <td>0.043426</td>\n",
       "      <td>0.036768</td>\n",
       "      <td>0.018390</td>\n",
       "      <td>0.023724</td>\n",
       "      <td>0.058584</td>\n",
       "      <td>0.047898</td>\n",
       "      <td>0.027825</td>\n",
       "      <td>0.034262</td>\n",
       "      <td>0.022454</td>\n",
       "      <td>0.041980</td>\n",
       "    </tr>\n",
       "    <tr>\n",
       "      <th>2</th>\n",
       "      <td>0.037710</td>\n",
       "      <td>0.047047</td>\n",
       "      <td>0.016294</td>\n",
       "      <td>0.015679</td>\n",
       "      <td>0.048425</td>\n",
       "      <td>0.045327</td>\n",
       "      <td>0.027339</td>\n",
       "      <td>0.032005</td>\n",
       "      <td>0.018620</td>\n",
       "      <td>0.037079</td>\n",
       "    </tr>\n",
       "    <tr>\n",
       "      <th>3</th>\n",
       "      <td>0.020447</td>\n",
       "      <td>0.056749</td>\n",
       "      <td>0.012668</td>\n",
       "      <td>0.012100</td>\n",
       "      <td>0.033864</td>\n",
       "      <td>0.027905</td>\n",
       "      <td>0.022843</td>\n",
       "      <td>0.028198</td>\n",
       "      <td>0.015067</td>\n",
       "      <td>0.027714</td>\n",
       "    </tr>\n",
       "    <tr>\n",
       "      <th>4</th>\n",
       "      <td>0.015061</td>\n",
       "      <td>0.056173</td>\n",
       "      <td>0.007865</td>\n",
       "      <td>0.008943</td>\n",
       "      <td>0.015916</td>\n",
       "      <td>0.019536</td>\n",
       "      <td>0.021507</td>\n",
       "      <td>0.022708</td>\n",
       "      <td>0.012230</td>\n",
       "      <td>0.018295</td>\n",
       "    </tr>\n",
       "  </tbody>\n",
       "</table>\n",
       "</div>"
      ],
      "text/plain": [
       "Category   ASSAULT  BURGLARY  DRUG/NARCOTIC  LARCENY/THEFT  PROSTITUTION  \\\n",
       "Hour                                                                       \n",
       "0         0.048897  0.054130       0.030540       0.042763      0.098544   \n",
       "1         0.043426  0.036768       0.018390       0.023724      0.058584   \n",
       "2         0.037710  0.047047       0.016294       0.015679      0.048425   \n",
       "3         0.020447  0.056749       0.012668       0.012100      0.033864   \n",
       "4         0.015061  0.056173       0.007865       0.008943      0.015916   \n",
       "\n",
       "Category   ROBBERY  STOLEN PROPERTY  VANDALISM  VEHICLE THEFT  WEAPON LAWS  \n",
       "Hour                                                                        \n",
       "0         0.046498         0.046902   0.053830       0.039043     0.053795  \n",
       "1         0.047898         0.027825   0.034262       0.022454     0.041980  \n",
       "2         0.045327         0.027339   0.032005       0.018620     0.037079  \n",
       "3         0.027905         0.022843   0.028198       0.015067     0.027714  \n",
       "4         0.019536         0.021507   0.022708       0.012230     0.018295  "
      ]
     },
     "execution_count": 6,
     "metadata": {},
     "output_type": "execute_result"
    }
   ],
   "source": [
    "grouped = df.groupby(['Category', 'Hour']).size().reset_index(name='count')\n",
    "pivoted = grouped.pivot(index='Hour', columns='Category', values='count').fillna(0)\n",
    "pivoted = pivoted.apply(lambda col: col / col.sum(), axis=0)\n",
    "pivoted.head()"
   ]
  },
  {
   "cell_type": "code",
   "execution_count": 7,
   "metadata": {},
   "outputs": [
    {
     "data": {
      "text/html": [
       "    <style>\n",
       "        .bk-notebook-logo {\n",
       "            display: block;\n",
       "            width: 20px;\n",
       "            height: 20px;\n",
       "            background-image: url(data:image/png;base64,iVBORw0KGgoAAAANSUhEUgAAABQAAAAUCAYAAACNiR0NAAAABHNCSVQICAgIfAhkiAAAAAlwSFlzAAALEgAACxIB0t1+/AAAABx0RVh0U29mdHdhcmUAQWRvYmUgRmlyZXdvcmtzIENTNui8sowAAAOkSURBVDiNjZRtaJVlGMd/1/08zzln5zjP1LWcU9N0NkN8m2CYjpgQYQXqSs0I84OLIC0hkEKoPtiH3gmKoiJDU7QpLgoLjLIQCpEsNJ1vqUOdO7ppbuec5+V+rj4ctwzd8IIbbi6u+8f1539dt3A78eXC7QizUF7gyV1fD1Yqg4JWz84yffhm0qkFqBogB9rM8tZdtwVsPUhWhGcFJngGeWrPzHm5oaMmkfEg1usvLFyc8jLRqDOMru7AyC8saQr7GG7f5fvDeH7Ej8CM66nIF+8yngt6HWaKh7k49Soy9nXurCi1o3qUbS3zWfrYeQDTB/Qj6kX6Ybhw4B+bOYoLKCC9H3Nu/leUTZ1JdRWkkn2ldcCamzrcf47KKXdAJllSlxAOkRgyHsGC/zRday5Qld9DyoM4/q/rUoy/CXh3jzOu3bHUVZeU+DEn8FInkPBFlu3+nW3Nw0mk6vCDiWg8CeJaxEwuHS3+z5RgY+YBR6V1Z1nxSOfoaPa4LASWxxdNp+VWTk7+4vzaou8v8PN+xo+KY2xsw6une2frhw05CTYOmQvsEhjhWjn0bmXPjpE1+kplmmkP3suftwTubK9Vq22qKmrBhpY4jvd5afdRA3wGjFAgcnTK2s4hY0/GPNIb0nErGMCRxWOOX64Z8RAC4oCXdklmEvcL8o0BfkNK4lUg9HTl+oPlQxdNo3Mg4Nv175e/1LDGzZen30MEjRUtmXSfiTVu1kK8W4txyV6BMKlbgk3lMwYCiusNy9fVfvvwMxv8Ynl6vxoByANLTWplvuj/nF9m2+PDtt1eiHPBr1oIfhCChQMBw6Aw0UulqTKZdfVvfG7VcfIqLG9bcldL/+pdWTLxLUy8Qq38heUIjh4XlzZxzQm19lLFlr8vdQ97rjZVOLf8nclzckbcD4wxXMidpX30sFd37Fv/GtwwhzhxGVAprjbg0gCAEeIgwCZyTV2Z1REEW8O4py0wsjeloKoMr6iCY6dP92H6Vw/oTyICIthibxjm/DfN9lVz8IqtqKYLUXfoKVMVQVVJOElGjrnnUt9T9wbgp8AyYKaGlqingHZU/uG2NTZSVqwHQTWkx9hxjkpWDaCg6Ckj5qebgBVbT3V3NNXMSiWSDdGV3hrtzla7J+duwPOToIg42ChPQOQjspnSlp1V+Gjdged7+8UN5CRAV7a5EdFNwCjEaBR27b3W890TE7g24NAP/mMDXRWrGoFPQI9ls/MWO2dWFAar/xcOIImbbpA3zgAAAABJRU5ErkJggg==);\n",
       "        }\n",
       "    </style>\n",
       "    <div>\n",
       "        <a href=\"https://bokeh.org\" target=\"_blank\" class=\"bk-notebook-logo\"></a>\n",
       "        <span id=\"da306227-2460-4698-accc-b9f5a48d346a\">Loading BokehJS ...</span>\n",
       "    </div>\n"
      ]
     },
     "metadata": {},
     "output_type": "display_data"
    },
    {
     "data": {
      "application/javascript": "'use strict';\n(function(root) {\n  function now() {\n    return new Date();\n  }\n\n  const force = true;\n\n  if (typeof root._bokeh_onload_callbacks === \"undefined\" || force === true) {\n    root._bokeh_onload_callbacks = [];\n    root._bokeh_is_loading = undefined;\n  }\n\nconst JS_MIME_TYPE = 'application/javascript';\n  const HTML_MIME_TYPE = 'text/html';\n  const EXEC_MIME_TYPE = 'application/vnd.bokehjs_exec.v0+json';\n  const CLASS_NAME = 'output_bokeh rendered_html';\n\n  /**\n   * Render data to the DOM node\n   */\n  function render(props, node) {\n    const script = document.createElement(\"script\");\n    node.appendChild(script);\n  }\n\n  /**\n   * Handle when an output is cleared or removed\n   */\n  function handleClearOutput(event, handle) {\n    function drop(id) {\n      const view = Bokeh.index.get_by_id(id)\n      if (view != null) {\n        view.model.document.clear()\n        Bokeh.index.delete(view)\n      }\n    }\n\n    const cell = handle.cell;\n\n    const id = cell.output_area._bokeh_element_id;\n    const server_id = cell.output_area._bokeh_server_id;\n\n    // Clean up Bokeh references\n    if (id != null) {\n      drop(id)\n    }\n\n    if (server_id !== undefined) {\n      // Clean up Bokeh references\n      const cmd_clean = \"from bokeh.io.state import curstate; print(curstate().uuid_to_server['\" + server_id + \"'].get_sessions()[0].document.roots[0]._id)\";\n      cell.notebook.kernel.execute(cmd_clean, {\n        iopub: {\n          output: function(msg) {\n            const id = msg.content.text.trim()\n            drop(id)\n          }\n        }\n      });\n      // Destroy server and session\n      const cmd_destroy = \"import bokeh.io.notebook as ion; ion.destroy_server('\" + server_id + \"')\";\n      cell.notebook.kernel.execute(cmd_destroy);\n    }\n  }\n\n  /**\n   * Handle when a new output is added\n   */\n  function handleAddOutput(event, handle) {\n    const output_area = handle.output_area;\n    const output = handle.output;\n\n    // limit handleAddOutput to display_data with EXEC_MIME_TYPE content only\n    if ((output.output_type != \"display_data\") || (!Object.prototype.hasOwnProperty.call(output.data, EXEC_MIME_TYPE))) {\n      return\n    }\n\n    const toinsert = output_area.element.find(\".\" + CLASS_NAME.split(' ')[0]);\n\n    if (output.metadata[EXEC_MIME_TYPE][\"id\"] !== undefined) {\n      toinsert[toinsert.length - 1].firstChild.textContent = output.data[JS_MIME_TYPE];\n      // store reference to embed id on output_area\n      output_area._bokeh_element_id = output.metadata[EXEC_MIME_TYPE][\"id\"];\n    }\n    if (output.metadata[EXEC_MIME_TYPE][\"server_id\"] !== undefined) {\n      const bk_div = document.createElement(\"div\");\n      bk_div.innerHTML = output.data[HTML_MIME_TYPE];\n      const script_attrs = bk_div.children[0].attributes;\n      for (let i = 0; i < script_attrs.length; i++) {\n        toinsert[toinsert.length - 1].firstChild.setAttribute(script_attrs[i].name, script_attrs[i].value);\n        toinsert[toinsert.length - 1].firstChild.textContent = bk_div.children[0].textContent\n      }\n      // store reference to server id on output_area\n      output_area._bokeh_server_id = output.metadata[EXEC_MIME_TYPE][\"server_id\"];\n    }\n  }\n\n  function register_renderer(events, OutputArea) {\n\n    function append_mime(data, metadata, element) {\n      // create a DOM node to render to\n      const toinsert = this.create_output_subarea(\n        metadata,\n        CLASS_NAME,\n        EXEC_MIME_TYPE\n      );\n      this.keyboard_manager.register_events(toinsert);\n      // Render to node\n      const props = {data: data, metadata: metadata[EXEC_MIME_TYPE]};\n      render(props, toinsert[toinsert.length - 1]);\n      element.append(toinsert);\n      return toinsert\n    }\n\n    /* Handle when an output is cleared or removed */\n    events.on('clear_output.CodeCell', handleClearOutput);\n    events.on('delete.Cell', handleClearOutput);\n\n    /* Handle when a new output is added */\n    events.on('output_added.OutputArea', handleAddOutput);\n\n    /**\n     * Register the mime type and append_mime function with output_area\n     */\n    OutputArea.prototype.register_mime_type(EXEC_MIME_TYPE, append_mime, {\n      /* Is output safe? */\n      safe: true,\n      /* Index of renderer in `output_area.display_order` */\n      index: 0\n    });\n  }\n\n  // register the mime type if in Jupyter Notebook environment and previously unregistered\n  if (root.Jupyter !== undefined) {\n    const events = require('base/js/events');\n    const OutputArea = require('notebook/js/outputarea').OutputArea;\n\n    if (OutputArea.prototype.mime_types().indexOf(EXEC_MIME_TYPE) == -1) {\n      register_renderer(events, OutputArea);\n    }\n  }\n  if (typeof (root._bokeh_timeout) === \"undefined\" || force === true) {\n    root._bokeh_timeout = Date.now() + 5000;\n    root._bokeh_failed_load = false;\n  }\n\n  const NB_LOAD_WARNING = {'data': {'text/html':\n     \"<div style='background-color: #fdd'>\\n\"+\n     \"<p>\\n\"+\n     \"BokehJS does not appear to have successfully loaded. If loading BokehJS from CDN, this \\n\"+\n     \"may be due to a slow or bad network connection. Possible fixes:\\n\"+\n     \"</p>\\n\"+\n     \"<ul>\\n\"+\n     \"<li>re-rerun `output_notebook()` to attempt to load from CDN again, or</li>\\n\"+\n     \"<li>use INLINE resources instead, as so:</li>\\n\"+\n     \"</ul>\\n\"+\n     \"<code>\\n\"+\n     \"from bokeh.resources import INLINE\\n\"+\n     \"output_notebook(resources=INLINE)\\n\"+\n     \"</code>\\n\"+\n     \"</div>\"}};\n\n  function display_loaded(error = null) {\n    const el = document.getElementById(\"da306227-2460-4698-accc-b9f5a48d346a\");\n    if (el != null) {\n      const html = (() => {\n        if (typeof root.Bokeh === \"undefined\") {\n          if (error == null) {\n            return \"BokehJS is loading ...\";\n          } else {\n            return \"BokehJS failed to load.\";\n          }\n        } else {\n          const prefix = `BokehJS ${root.Bokeh.version}`;\n          if (error == null) {\n            return `${prefix} successfully loaded.`;\n          } else {\n            return `${prefix} <b>encountered errors</b> while loading and may not function as expected.`;\n          }\n        }\n      })();\n      el.innerHTML = html;\n\n      if (error != null) {\n        const wrapper = document.createElement(\"div\");\n        wrapper.style.overflow = \"auto\";\n        wrapper.style.height = \"5em\";\n        wrapper.style.resize = \"vertical\";\n        const content = document.createElement(\"div\");\n        content.style.fontFamily = \"monospace\";\n        content.style.whiteSpace = \"pre-wrap\";\n        content.style.backgroundColor = \"rgb(255, 221, 221)\";\n        content.textContent = error.stack ?? error.toString();\n        wrapper.append(content);\n        el.append(wrapper);\n      }\n    } else if (Date.now() < root._bokeh_timeout) {\n      setTimeout(() => display_loaded(error), 100);\n    }\n  }\n\n  function run_callbacks() {\n    try {\n      root._bokeh_onload_callbacks.forEach(function(callback) {\n        if (callback != null)\n          callback();\n      });\n    } finally {\n      delete root._bokeh_onload_callbacks\n    }\n    console.debug(\"Bokeh: all callbacks have finished\");\n  }\n\n  function load_libs(css_urls, js_urls, callback) {\n    if (css_urls == null) css_urls = [];\n    if (js_urls == null) js_urls = [];\n\n    root._bokeh_onload_callbacks.push(callback);\n    if (root._bokeh_is_loading > 0) {\n      console.debug(\"Bokeh: BokehJS is being loaded, scheduling callback at\", now());\n      return null;\n    }\n    if (js_urls == null || js_urls.length === 0) {\n      run_callbacks();\n      return null;\n    }\n    console.debug(\"Bokeh: BokehJS not loaded, scheduling load and callback at\", now());\n    root._bokeh_is_loading = css_urls.length + js_urls.length;\n\n    function on_load() {\n      root._bokeh_is_loading--;\n      if (root._bokeh_is_loading === 0) {\n        console.debug(\"Bokeh: all BokehJS libraries/stylesheets loaded\");\n        run_callbacks()\n      }\n    }\n\n    function on_error(url) {\n      console.error(\"failed to load \" + url);\n    }\n\n    for (let i = 0; i < css_urls.length; i++) {\n      const url = css_urls[i];\n      const element = document.createElement(\"link\");\n      element.onload = on_load;\n      element.onerror = on_error.bind(null, url);\n      element.rel = \"stylesheet\";\n      element.type = \"text/css\";\n      element.href = url;\n      console.debug(\"Bokeh: injecting link tag for BokehJS stylesheet: \", url);\n      document.body.appendChild(element);\n    }\n\n    for (let i = 0; i < js_urls.length; i++) {\n      const url = js_urls[i];\n      const element = document.createElement('script');\n      element.onload = on_load;\n      element.onerror = on_error.bind(null, url);\n      element.async = false;\n      element.src = url;\n      console.debug(\"Bokeh: injecting script tag for BokehJS library: \", url);\n      document.head.appendChild(element);\n    }\n  };\n\n  function inject_raw_css(css) {\n    const element = document.createElement(\"style\");\n    element.appendChild(document.createTextNode(css));\n    document.body.appendChild(element);\n  }\n\n  const js_urls = [\"https://cdn.bokeh.org/bokeh/release/bokeh-3.6.3.min.js\", \"https://cdn.bokeh.org/bokeh/release/bokeh-gl-3.6.3.min.js\", \"https://cdn.bokeh.org/bokeh/release/bokeh-widgets-3.6.3.min.js\", \"https://cdn.bokeh.org/bokeh/release/bokeh-tables-3.6.3.min.js\", \"https://cdn.bokeh.org/bokeh/release/bokeh-mathjax-3.6.3.min.js\"];\n  const css_urls = [];\n\n  const inline_js = [    function(Bokeh) {\n      Bokeh.set_log_level(\"info\");\n    },\nfunction(Bokeh) {\n    }\n  ];\n\n  function run_inline_js() {\n    if (root.Bokeh !== undefined || force === true) {\n      try {\n            for (let i = 0; i < inline_js.length; i++) {\n      inline_js[i].call(root, root.Bokeh);\n    }\n\n      } catch (error) {display_loaded(error);throw error;\n      }if (force === true) {\n        display_loaded();\n      }} else if (Date.now() < root._bokeh_timeout) {\n      setTimeout(run_inline_js, 100);\n    } else if (!root._bokeh_failed_load) {\n      console.log(\"Bokeh: BokehJS failed to load within specified timeout.\");\n      root._bokeh_failed_load = true;\n    } else if (force !== true) {\n      const cell = $(document.getElementById(\"da306227-2460-4698-accc-b9f5a48d346a\")).parents('.cell').data().cell;\n      cell.output_area.append_execute_result(NB_LOAD_WARNING)\n    }\n  }\n\n  if (root._bokeh_is_loading === 0) {\n    console.debug(\"Bokeh: BokehJS loaded, going straight to plotting\");\n    run_inline_js();\n  } else {\n    load_libs(css_urls, js_urls, function() {\n      console.debug(\"Bokeh: BokehJS plotting callback run at\", now());\n      run_inline_js();\n    });\n  }\n}(window));",
      "application/vnd.bokehjs_load.v0+json": ""
     },
     "metadata": {},
     "output_type": "display_data"
    }
   ],
   "source": [
    "output_notebook()\n",
    "source = ColumnDataSource(pivoted)\n",
    "\n",
    "p = figure(\n",
    "    x_range=FactorRange(factors=[str(i) for i in range(24)]),\n",
    "    width=800,\n",
    "    height=450,\n",
    "    title='Hour-by-hour Probabilities',\n",
    "    toolbar_location='right',\n",
    "    tools='pan,box_zoom,reset,save'\n",
    ")\n",
    "p.xaxis.axis_label = 'Hour of Day'\n",
    "p.yaxis.axis_label = 'Relative Frequency'\n",
    "\n",
    "colors = [\n",
    "    \"blue\", \"red\", \"green\", \"orange\", \"purple\",\n",
    "    \"gold\", \"magenta\", \"brown\", \"gray\", \"cyan\"\n",
    "]\n"
   ]
  },
  {
   "cell_type": "code",
   "execution_count": 8,
   "metadata": {},
   "outputs": [
    {
     "data": {
      "text/html": [
       "\n",
       "  <div id=\"c7538ddf-c589-4794-a8ed-19d01299f3b3\" data-root-id=\"p1005\" style=\"display: contents;\"></div>\n"
      ]
     },
     "metadata": {},
     "output_type": "display_data"
    },
    {
     "data": {
      "application/javascript": "(function(root) {\n  function embed_document(root) {\n  const docs_json = {\"3506a682-7b4d-464c-b510-528fd0b61ce9\":{\"version\":\"3.6.3\",\"title\":\"Bokeh Application\",\"roots\":[{\"type\":\"object\",\"name\":\"Figure\",\"id\":\"p1005\",\"attributes\":{\"width\":800,\"height\":450,\"x_range\":{\"type\":\"object\",\"name\":\"FactorRange\",\"id\":\"p1004\",\"attributes\":{\"factors\":[\"0\",\"1\",\"2\",\"3\",\"4\",\"5\",\"6\",\"7\",\"8\",\"9\",\"10\",\"11\",\"12\",\"13\",\"14\",\"15\",\"16\",\"17\",\"18\",\"19\",\"20\",\"21\",\"22\",\"23\"]}},\"y_range\":{\"type\":\"object\",\"name\":\"DataRange1d\",\"id\":\"p1007\"},\"x_scale\":{\"type\":\"object\",\"name\":\"CategoricalScale\",\"id\":\"p1015\"},\"y_scale\":{\"type\":\"object\",\"name\":\"LinearScale\",\"id\":\"p1016\"},\"title\":{\"type\":\"object\",\"name\":\"Title\",\"id\":\"p1008\",\"attributes\":{\"text\":\"Hour-by-hour Probabilities\"}},\"renderers\":[{\"type\":\"object\",\"name\":\"GlyphRenderer\",\"id\":\"p1044\",\"attributes\":{\"data_source\":{\"type\":\"object\",\"name\":\"ColumnDataSource\",\"id\":\"p1001\",\"attributes\":{\"selected\":{\"type\":\"object\",\"name\":\"Selection\",\"id\":\"p1002\",\"attributes\":{\"indices\":[],\"line_indices\":[]}},\"selection_policy\":{\"type\":\"object\",\"name\":\"UnionRenderers\",\"id\":\"p1003\"},\"data\":{\"type\":\"map\",\"entries\":[[\"Hour\",{\"type\":\"ndarray\",\"array\":{\"type\":\"bytes\",\"data\":\"AAAAAAEAAAACAAAAAwAAAAQAAAAFAAAABgAAAAcAAAAIAAAACQAAAAoAAAALAAAADAAAAA0AAAAOAAAADwAAABAAAAARAAAAEgAAABMAAAAUAAAAFQAAABYAAAAXAAAA\"},\"shape\":[24],\"dtype\":\"int32\",\"order\":\"little\"}],[\"ASSAULT\",{\"type\":\"ndarray\",\"array\":{\"type\":\"bytes\",\"data\":\"Mu+JIBIJqT+y1z56/zumP6rwGZa5TqM/897vrRbwlD8wRM16eNiOP9s9lvDpj4w/9isd6ntqkT8UHISEAGGZP4rj7izYh6A/hiS6x69toz/5sZzSzfOkPxPGbQm3gac/FUzt8QgLqz846ONSCkKpP5GRXpRH5Kk/cLPJd4u3rD/nVfdiGzetP2qUwjdSSaw/HJGhP4Ouqz/lQX+jjE2qP6Pkt/Qruqk/Ymv/l1Fmqj+cLfx97naoPxKgwPt1TKc/\"},\"shape\":[24],\"dtype\":\"float64\",\"order\":\"little\"}],[\"BURGLARY\",{\"type\":\"ndarray\",\"array\":{\"type\":\"bytes\",\"data\":\"wsSy//22qz8fseNuPdOiPywgNr9/Fqg/6m5ALj4OrT+ZTvhMusKsP23S8+p8GqY/8HCMbW05nD8uiLq7VHaZPwPY4t0aa6A/ELO3mvyWnz/EvkZV4JygP/dBOwavjp4/Sl6Fd2hRpj9poXg/s6qcP41ChunqwKA/zSqFyze5oz8kg1qiOiSoP+BrTk93Ta4/n+otymcfrT/2o3VTijqoPz6N+NlKYqc/w8F8Ku8ppj/aZF4A5gOnP1z+UnN0BKU/\"},\"shape\":[24],\"dtype\":\"float64\",\"order\":\"little\"}],[\"DRUG/NARCOTIC\",{\"type\":\"ndarray\",\"array\":{\"type\":\"bytes\",\"data\":\"qtMejttFnz+/lhBAzNSSP1d/389vr5A/ccqQvLbxiT+lahRhSxuAP+KeQkR0iHc/1+BckHchkD/ludWAR2KgP5IOY6Ozy6M/Q2Azkch7pT94EMQKjuSkP/sHRKLlXas/thQEP+KnsT88VXRZaM20P9kr3nsfpbM/xd7U9hyftD8AQPuDBemzPzntzshzmLE/nAlO1qBOrD8+Y/DFHzWnP2oJ7tNi0aA/4733UToRnj+CvpzpWQyjPx3hs8OWSaA/\"},\"shape\":[24],\"dtype\":\"float64\",\"order\":\"little\"}],[\"LARCENY/THEFT\",{\"type\":\"ndarray\",\"array\":{\"type\":\"bytes\",\"data\":\"6TfucAzlpT+oDphaC0uYP++Oq/sPDpA/m/9jpBzIiD8zMEJqzlCCP3RkxgZD7IE/TzD0Az3ahz/P00T8tRmQPxuA23j+nZs/+4hyTts5oT+KDMxs6qCnP4Gv/Of63qs/oOkOXdZJsD9gESjVwXarP1s16dx7B6s/E4wmIB8LrD/182MH0jutP3SvQRzZ/rA/naKiqW4PtD8zo33y+PCyPzezzsmU37A/Y4h5hLtzqj81ZjlgTKymP5p//sJh6qI/\"},\"shape\":[24],\"dtype\":\"float64\",\"order\":\"little\"}],[\"PROSTITUTION\",{\"type\":\"ndarray\",\"array\":{\"type\":\"bytes\",\"data\":\"5uflhCs6uT8LqzNMyf6tP1eQx3I0y6g/Vq691JpWoT8y3HTcSUyQPz4ijYQPpXA/jcs0561aej9uOu4kJghyP73jlYfEvWs//oIRBmoxZj/t+/Yn2yB9P9qwyA0ZJ5U/OfCFf/kytD96gAbN62CSP7wBjOkqSaQ/k+5AuxCHqj+BhRw/6AGqP2n56+5cUKk/1I28Obb6pD/n2OpTePSsP/MeA/w9Ta0/HRRYyPGDrj8Q7DWCkra2P5kRTY9zs7o/\"},\"shape\":[24],\"dtype\":\"float64\",\"order\":\"little\"}],[\"ROBBERY\",{\"type\":\"ndarray\",\"array\":{\"type\":\"bytes\",\"data\":\"oHaogKHOpz+M2FSbEYaoP7yCqlokNac/QXps8w2TnD+6foNwSQGUP/XN3p5I3ZI/lgCst/hIkT+Pkv3CBSuRP6aM54MCypU/3nXikcTvmj/DH2L1WvqgP7dHLPZP8qM/w0ShVs5Bpj9FjIQMlFqnP6zHZejWDKk/0JmFqN6zqj9o1ys1xjetP+z99nPzPKw/ECRfO7LSrD8o+QmbOyqsP7Gum0X0YK0/qGEFyJlWrz9LH3Ji+r+sP59DePCC86o/\"},\"shape\":[24],\"dtype\":\"float64\",\"order\":\"little\"}],[\"STOLEN PROPERTY\",{\"type\":\"ndarray\",\"array\":{\"type\":\"bytes\",\"data\":\"hqrp3HsDqD++euktKn6cP2PVPnrB/ps/01tU/Dhklz8XFT8O2QWWP+g8v8pHSpI/acJptCTGlT/Ddqm0uN2cP36j1IIzrKA/POhJtFo6oj8QGx9Eg3alP9VZtD8AlKc/fqPUgjOssD/MbinC1ZytP3PH3lE0Ta0/0WrpSGT8rT/LVD+i8AywP9Zmqc/yW64/EyZ0Fz1urD/0P5SrHgGqP75t9J03tqU/wGtU4f7lpT+mgTT8btijP6h/lD82CKQ/\"},\"shape\":[24],\"dtype\":\"float64\",\"order\":\"little\"}],[\"VANDALISM\",{\"type\":\"ndarray\",\"array\":{\"type\":\"bytes\",\"data\":\"EXGCKZqPqz8/rg3YyIqhP7Y/rVHlYqA/lpEe5dbfnD/hGnh6vkCXP9p9lT1UtZU/T2XGJtnKlT/fG9Ih2xyZPzGcBGvkO6A/Zxe9MFq+oD98nuzNuNChP8yYB4zL/6E/gmTlvi8Apz+c6AZmOH6iP4c0XA1+0qM/ThCPXo1ppj9OOEtrfTGoP8HG34Rn8K4/YQsszyNAsT/z7VjeZE+wPz/1YTvuU68/7tKKcOtcrT8cB/JoX5GtP2gNP9OCG6k/\"},\"shape\":[24],\"dtype\":\"float64\",\"order\":\"little\"}],[\"VEHICLE THEFT\",{\"type\":\"ndarray\",\"array\":{\"type\":\"bytes\",\"data\":\"f+Nc92H9oz/JJ9ATP/6WP8hmJR8yEZM/WXzNobLbjj86SrwOOQyJP5CKSmA9W4o/7c5mCKNfkj8h92ZaunCZP5PL5hbhyKE/t+ZtVUCOoT+7D+uf2sOhPzfso4WWhaA/ZWqDN7uzqT89Pp4ay/CgP1sVkGMUwaM/DAF4mxwvqD+jmQofpgGtPyMEGmYXurI/5mmqbVqdtD9fUc+zwk2xPw8vUkysRbI/3lYF5BhFsD+JUG83EiixP0Qrv5jkmqo/\"},\"shape\":[24],\"dtype\":\"float64\",\"order\":\"little\"}],[\"WEAPON LAWS\",{\"type\":\"ndarray\",\"array\":{\"type\":\"bytes\",\"data\":\"GM0djQaLqz/e2kuBXn6lP7tX67oR/KI/JE6TJCBhnD9rF0ja1ruSP4sjmx1mb4w/cdCVPiU4jj8EHE0O4WmWPwHLMl7T3pk/eunXIf4coD+kVQCM3k+hP8OtOXXNiqM/nrPLK8M5qD8QCkm8Ih6pP3QhsO4yw6o/j07C+sO2rD9OuruOAJStP3X7vBuDf64/dCGw7jLDqj/UenZaDf+tP+Jy+XTko6c/8oscAISfqj+95RFCAjGuP9fLkAobiqo/\"},\"shape\":[24],\"dtype\":\"float64\",\"order\":\"little\"}]]}}},\"view\":{\"type\":\"object\",\"name\":\"CDSView\",\"id\":\"p1045\",\"attributes\":{\"filter\":{\"type\":\"object\",\"name\":\"AllIndices\",\"id\":\"p1046\"}}},\"glyph\":{\"type\":\"object\",\"name\":\"VBar\",\"id\":\"p1041\",\"attributes\":{\"x\":{\"type\":\"field\",\"field\":\"Hour\"},\"width\":{\"type\":\"value\",\"value\":0.8},\"top\":{\"type\":\"field\",\"field\":\"WEAPON LAWS\"},\"line_color\":{\"type\":\"value\",\"value\":\"blue\"},\"fill_color\":{\"type\":\"value\",\"value\":\"blue\"},\"hatch_color\":{\"type\":\"value\",\"value\":\"blue\"}}},\"nonselection_glyph\":{\"type\":\"object\",\"name\":\"VBar\",\"id\":\"p1042\",\"attributes\":{\"x\":{\"type\":\"field\",\"field\":\"Hour\"},\"width\":{\"type\":\"value\",\"value\":0.8},\"top\":{\"type\":\"field\",\"field\":\"WEAPON LAWS\"},\"line_color\":{\"type\":\"value\",\"value\":\"blue\"},\"line_alpha\":{\"type\":\"value\",\"value\":0.1},\"fill_color\":{\"type\":\"value\",\"value\":\"blue\"},\"fill_alpha\":{\"type\":\"value\",\"value\":0.1},\"hatch_color\":{\"type\":\"value\",\"value\":\"blue\"},\"hatch_alpha\":{\"type\":\"value\",\"value\":0.1}}},\"muted_glyph\":{\"type\":\"object\",\"name\":\"VBar\",\"id\":\"p1043\",\"attributes\":{\"x\":{\"type\":\"field\",\"field\":\"Hour\"},\"width\":{\"type\":\"value\",\"value\":0.8},\"top\":{\"type\":\"field\",\"field\":\"WEAPON LAWS\"},\"line_color\":{\"type\":\"value\",\"value\":\"blue\"},\"line_alpha\":{\"type\":\"value\",\"value\":0.05},\"fill_color\":{\"type\":\"value\",\"value\":\"blue\"},\"fill_alpha\":{\"type\":\"value\",\"value\":0.05},\"hatch_color\":{\"type\":\"value\",\"value\":\"blue\"},\"hatch_alpha\":{\"type\":\"value\",\"value\":0.05}}},\"muted\":true}},{\"type\":\"object\",\"name\":\"GlyphRenderer\",\"id\":\"p1055\",\"attributes\":{\"data_source\":{\"id\":\"p1001\"},\"view\":{\"type\":\"object\",\"name\":\"CDSView\",\"id\":\"p1056\",\"attributes\":{\"filter\":{\"type\":\"object\",\"name\":\"AllIndices\",\"id\":\"p1057\"}}},\"glyph\":{\"type\":\"object\",\"name\":\"VBar\",\"id\":\"p1052\",\"attributes\":{\"x\":{\"type\":\"field\",\"field\":\"Hour\"},\"width\":{\"type\":\"value\",\"value\":0.8},\"top\":{\"type\":\"field\",\"field\":\"PROSTITUTION\"},\"line_color\":{\"type\":\"value\",\"value\":\"red\"},\"fill_color\":{\"type\":\"value\",\"value\":\"red\"},\"hatch_color\":{\"type\":\"value\",\"value\":\"red\"}}},\"nonselection_glyph\":{\"type\":\"object\",\"name\":\"VBar\",\"id\":\"p1053\",\"attributes\":{\"x\":{\"type\":\"field\",\"field\":\"Hour\"},\"width\":{\"type\":\"value\",\"value\":0.8},\"top\":{\"type\":\"field\",\"field\":\"PROSTITUTION\"},\"line_color\":{\"type\":\"value\",\"value\":\"red\"},\"line_alpha\":{\"type\":\"value\",\"value\":0.1},\"fill_color\":{\"type\":\"value\",\"value\":\"red\"},\"fill_alpha\":{\"type\":\"value\",\"value\":0.1},\"hatch_color\":{\"type\":\"value\",\"value\":\"red\"},\"hatch_alpha\":{\"type\":\"value\",\"value\":0.1}}},\"muted_glyph\":{\"type\":\"object\",\"name\":\"VBar\",\"id\":\"p1054\",\"attributes\":{\"x\":{\"type\":\"field\",\"field\":\"Hour\"},\"width\":{\"type\":\"value\",\"value\":0.8},\"top\":{\"type\":\"field\",\"field\":\"PROSTITUTION\"},\"line_color\":{\"type\":\"value\",\"value\":\"red\"},\"line_alpha\":{\"type\":\"value\",\"value\":0.05},\"fill_color\":{\"type\":\"value\",\"value\":\"red\"},\"fill_alpha\":{\"type\":\"value\",\"value\":0.05},\"hatch_color\":{\"type\":\"value\",\"value\":\"red\"},\"hatch_alpha\":{\"type\":\"value\",\"value\":0.05}}},\"muted\":true}},{\"type\":\"object\",\"name\":\"GlyphRenderer\",\"id\":\"p1065\",\"attributes\":{\"data_source\":{\"id\":\"p1001\"},\"view\":{\"type\":\"object\",\"name\":\"CDSView\",\"id\":\"p1066\",\"attributes\":{\"filter\":{\"type\":\"object\",\"name\":\"AllIndices\",\"id\":\"p1067\"}}},\"glyph\":{\"type\":\"object\",\"name\":\"VBar\",\"id\":\"p1062\",\"attributes\":{\"x\":{\"type\":\"field\",\"field\":\"Hour\"},\"width\":{\"type\":\"value\",\"value\":0.8},\"top\":{\"type\":\"field\",\"field\":\"ROBBERY\"},\"line_color\":{\"type\":\"value\",\"value\":\"green\"},\"fill_color\":{\"type\":\"value\",\"value\":\"green\"},\"hatch_color\":{\"type\":\"value\",\"value\":\"green\"}}},\"nonselection_glyph\":{\"type\":\"object\",\"name\":\"VBar\",\"id\":\"p1063\",\"attributes\":{\"x\":{\"type\":\"field\",\"field\":\"Hour\"},\"width\":{\"type\":\"value\",\"value\":0.8},\"top\":{\"type\":\"field\",\"field\":\"ROBBERY\"},\"line_color\":{\"type\":\"value\",\"value\":\"green\"},\"line_alpha\":{\"type\":\"value\",\"value\":0.1},\"fill_color\":{\"type\":\"value\",\"value\":\"green\"},\"fill_alpha\":{\"type\":\"value\",\"value\":0.1},\"hatch_color\":{\"type\":\"value\",\"value\":\"green\"},\"hatch_alpha\":{\"type\":\"value\",\"value\":0.1}}},\"muted_glyph\":{\"type\":\"object\",\"name\":\"VBar\",\"id\":\"p1064\",\"attributes\":{\"x\":{\"type\":\"field\",\"field\":\"Hour\"},\"width\":{\"type\":\"value\",\"value\":0.8},\"top\":{\"type\":\"field\",\"field\":\"ROBBERY\"},\"line_color\":{\"type\":\"value\",\"value\":\"green\"},\"line_alpha\":{\"type\":\"value\",\"value\":0.05},\"fill_color\":{\"type\":\"value\",\"value\":\"green\"},\"fill_alpha\":{\"type\":\"value\",\"value\":0.05},\"hatch_color\":{\"type\":\"value\",\"value\":\"green\"},\"hatch_alpha\":{\"type\":\"value\",\"value\":0.05}}},\"muted\":true}},{\"type\":\"object\",\"name\":\"GlyphRenderer\",\"id\":\"p1075\",\"attributes\":{\"data_source\":{\"id\":\"p1001\"},\"view\":{\"type\":\"object\",\"name\":\"CDSView\",\"id\":\"p1076\",\"attributes\":{\"filter\":{\"type\":\"object\",\"name\":\"AllIndices\",\"id\":\"p1077\"}}},\"glyph\":{\"type\":\"object\",\"name\":\"VBar\",\"id\":\"p1072\",\"attributes\":{\"x\":{\"type\":\"field\",\"field\":\"Hour\"},\"width\":{\"type\":\"value\",\"value\":0.8},\"top\":{\"type\":\"field\",\"field\":\"BURGLARY\"},\"line_color\":{\"type\":\"value\",\"value\":\"orange\"},\"fill_color\":{\"type\":\"value\",\"value\":\"orange\"},\"hatch_color\":{\"type\":\"value\",\"value\":\"orange\"}}},\"nonselection_glyph\":{\"type\":\"object\",\"name\":\"VBar\",\"id\":\"p1073\",\"attributes\":{\"x\":{\"type\":\"field\",\"field\":\"Hour\"},\"width\":{\"type\":\"value\",\"value\":0.8},\"top\":{\"type\":\"field\",\"field\":\"BURGLARY\"},\"line_color\":{\"type\":\"value\",\"value\":\"orange\"},\"line_alpha\":{\"type\":\"value\",\"value\":0.1},\"fill_color\":{\"type\":\"value\",\"value\":\"orange\"},\"fill_alpha\":{\"type\":\"value\",\"value\":0.1},\"hatch_color\":{\"type\":\"value\",\"value\":\"orange\"},\"hatch_alpha\":{\"type\":\"value\",\"value\":0.1}}},\"muted_glyph\":{\"type\":\"object\",\"name\":\"VBar\",\"id\":\"p1074\",\"attributes\":{\"x\":{\"type\":\"field\",\"field\":\"Hour\"},\"width\":{\"type\":\"value\",\"value\":0.8},\"top\":{\"type\":\"field\",\"field\":\"BURGLARY\"},\"line_color\":{\"type\":\"value\",\"value\":\"orange\"},\"line_alpha\":{\"type\":\"value\",\"value\":0.05},\"fill_color\":{\"type\":\"value\",\"value\":\"orange\"},\"fill_alpha\":{\"type\":\"value\",\"value\":0.05},\"hatch_color\":{\"type\":\"value\",\"value\":\"orange\"},\"hatch_alpha\":{\"type\":\"value\",\"value\":0.05}}},\"muted\":true}},{\"type\":\"object\",\"name\":\"GlyphRenderer\",\"id\":\"p1085\",\"attributes\":{\"data_source\":{\"id\":\"p1001\"},\"view\":{\"type\":\"object\",\"name\":\"CDSView\",\"id\":\"p1086\",\"attributes\":{\"filter\":{\"type\":\"object\",\"name\":\"AllIndices\",\"id\":\"p1087\"}}},\"glyph\":{\"type\":\"object\",\"name\":\"VBar\",\"id\":\"p1082\",\"attributes\":{\"x\":{\"type\":\"field\",\"field\":\"Hour\"},\"width\":{\"type\":\"value\",\"value\":0.8},\"top\":{\"type\":\"field\",\"field\":\"ASSAULT\"},\"line_color\":{\"type\":\"value\",\"value\":\"purple\"},\"fill_color\":{\"type\":\"value\",\"value\":\"purple\"},\"hatch_color\":{\"type\":\"value\",\"value\":\"purple\"}}},\"nonselection_glyph\":{\"type\":\"object\",\"name\":\"VBar\",\"id\":\"p1083\",\"attributes\":{\"x\":{\"type\":\"field\",\"field\":\"Hour\"},\"width\":{\"type\":\"value\",\"value\":0.8},\"top\":{\"type\":\"field\",\"field\":\"ASSAULT\"},\"line_color\":{\"type\":\"value\",\"value\":\"purple\"},\"line_alpha\":{\"type\":\"value\",\"value\":0.1},\"fill_color\":{\"type\":\"value\",\"value\":\"purple\"},\"fill_alpha\":{\"type\":\"value\",\"value\":0.1},\"hatch_color\":{\"type\":\"value\",\"value\":\"purple\"},\"hatch_alpha\":{\"type\":\"value\",\"value\":0.1}}},\"muted_glyph\":{\"type\":\"object\",\"name\":\"VBar\",\"id\":\"p1084\",\"attributes\":{\"x\":{\"type\":\"field\",\"field\":\"Hour\"},\"width\":{\"type\":\"value\",\"value\":0.8},\"top\":{\"type\":\"field\",\"field\":\"ASSAULT\"},\"line_color\":{\"type\":\"value\",\"value\":\"purple\"},\"line_alpha\":{\"type\":\"value\",\"value\":0.05},\"fill_color\":{\"type\":\"value\",\"value\":\"purple\"},\"fill_alpha\":{\"type\":\"value\",\"value\":0.05},\"hatch_color\":{\"type\":\"value\",\"value\":\"purple\"},\"hatch_alpha\":{\"type\":\"value\",\"value\":0.05}}},\"muted\":true}},{\"type\":\"object\",\"name\":\"GlyphRenderer\",\"id\":\"p1095\",\"attributes\":{\"data_source\":{\"id\":\"p1001\"},\"view\":{\"type\":\"object\",\"name\":\"CDSView\",\"id\":\"p1096\",\"attributes\":{\"filter\":{\"type\":\"object\",\"name\":\"AllIndices\",\"id\":\"p1097\"}}},\"glyph\":{\"type\":\"object\",\"name\":\"VBar\",\"id\":\"p1092\",\"attributes\":{\"x\":{\"type\":\"field\",\"field\":\"Hour\"},\"width\":{\"type\":\"value\",\"value\":0.8},\"top\":{\"type\":\"field\",\"field\":\"DRUG/NARCOTIC\"},\"line_color\":{\"type\":\"value\",\"value\":\"gold\"},\"fill_color\":{\"type\":\"value\",\"value\":\"gold\"},\"hatch_color\":{\"type\":\"value\",\"value\":\"gold\"}}},\"nonselection_glyph\":{\"type\":\"object\",\"name\":\"VBar\",\"id\":\"p1093\",\"attributes\":{\"x\":{\"type\":\"field\",\"field\":\"Hour\"},\"width\":{\"type\":\"value\",\"value\":0.8},\"top\":{\"type\":\"field\",\"field\":\"DRUG/NARCOTIC\"},\"line_color\":{\"type\":\"value\",\"value\":\"gold\"},\"line_alpha\":{\"type\":\"value\",\"value\":0.1},\"fill_color\":{\"type\":\"value\",\"value\":\"gold\"},\"fill_alpha\":{\"type\":\"value\",\"value\":0.1},\"hatch_color\":{\"type\":\"value\",\"value\":\"gold\"},\"hatch_alpha\":{\"type\":\"value\",\"value\":0.1}}},\"muted_glyph\":{\"type\":\"object\",\"name\":\"VBar\",\"id\":\"p1094\",\"attributes\":{\"x\":{\"type\":\"field\",\"field\":\"Hour\"},\"width\":{\"type\":\"value\",\"value\":0.8},\"top\":{\"type\":\"field\",\"field\":\"DRUG/NARCOTIC\"},\"line_color\":{\"type\":\"value\",\"value\":\"gold\"},\"line_alpha\":{\"type\":\"value\",\"value\":0.05},\"fill_color\":{\"type\":\"value\",\"value\":\"gold\"},\"fill_alpha\":{\"type\":\"value\",\"value\":0.05},\"hatch_color\":{\"type\":\"value\",\"value\":\"gold\"},\"hatch_alpha\":{\"type\":\"value\",\"value\":0.05}}},\"muted\":true}},{\"type\":\"object\",\"name\":\"GlyphRenderer\",\"id\":\"p1105\",\"attributes\":{\"data_source\":{\"id\":\"p1001\"},\"view\":{\"type\":\"object\",\"name\":\"CDSView\",\"id\":\"p1106\",\"attributes\":{\"filter\":{\"type\":\"object\",\"name\":\"AllIndices\",\"id\":\"p1107\"}}},\"glyph\":{\"type\":\"object\",\"name\":\"VBar\",\"id\":\"p1102\",\"attributes\":{\"x\":{\"type\":\"field\",\"field\":\"Hour\"},\"width\":{\"type\":\"value\",\"value\":0.8},\"top\":{\"type\":\"field\",\"field\":\"LARCENY/THEFT\"},\"line_color\":{\"type\":\"value\",\"value\":\"magenta\"},\"fill_color\":{\"type\":\"value\",\"value\":\"magenta\"},\"hatch_color\":{\"type\":\"value\",\"value\":\"magenta\"}}},\"nonselection_glyph\":{\"type\":\"object\",\"name\":\"VBar\",\"id\":\"p1103\",\"attributes\":{\"x\":{\"type\":\"field\",\"field\":\"Hour\"},\"width\":{\"type\":\"value\",\"value\":0.8},\"top\":{\"type\":\"field\",\"field\":\"LARCENY/THEFT\"},\"line_color\":{\"type\":\"value\",\"value\":\"magenta\"},\"line_alpha\":{\"type\":\"value\",\"value\":0.1},\"fill_color\":{\"type\":\"value\",\"value\":\"magenta\"},\"fill_alpha\":{\"type\":\"value\",\"value\":0.1},\"hatch_color\":{\"type\":\"value\",\"value\":\"magenta\"},\"hatch_alpha\":{\"type\":\"value\",\"value\":0.1}}},\"muted_glyph\":{\"type\":\"object\",\"name\":\"VBar\",\"id\":\"p1104\",\"attributes\":{\"x\":{\"type\":\"field\",\"field\":\"Hour\"},\"width\":{\"type\":\"value\",\"value\":0.8},\"top\":{\"type\":\"field\",\"field\":\"LARCENY/THEFT\"},\"line_color\":{\"type\":\"value\",\"value\":\"magenta\"},\"line_alpha\":{\"type\":\"value\",\"value\":0.05},\"fill_color\":{\"type\":\"value\",\"value\":\"magenta\"},\"fill_alpha\":{\"type\":\"value\",\"value\":0.05},\"hatch_color\":{\"type\":\"value\",\"value\":\"magenta\"},\"hatch_alpha\":{\"type\":\"value\",\"value\":0.05}}},\"muted\":true}},{\"type\":\"object\",\"name\":\"GlyphRenderer\",\"id\":\"p1115\",\"attributes\":{\"data_source\":{\"id\":\"p1001\"},\"view\":{\"type\":\"object\",\"name\":\"CDSView\",\"id\":\"p1116\",\"attributes\":{\"filter\":{\"type\":\"object\",\"name\":\"AllIndices\",\"id\":\"p1117\"}}},\"glyph\":{\"type\":\"object\",\"name\":\"VBar\",\"id\":\"p1112\",\"attributes\":{\"x\":{\"type\":\"field\",\"field\":\"Hour\"},\"width\":{\"type\":\"value\",\"value\":0.8},\"top\":{\"type\":\"field\",\"field\":\"VANDALISM\"},\"line_color\":{\"type\":\"value\",\"value\":\"brown\"},\"fill_color\":{\"type\":\"value\",\"value\":\"brown\"},\"hatch_color\":{\"type\":\"value\",\"value\":\"brown\"}}},\"nonselection_glyph\":{\"type\":\"object\",\"name\":\"VBar\",\"id\":\"p1113\",\"attributes\":{\"x\":{\"type\":\"field\",\"field\":\"Hour\"},\"width\":{\"type\":\"value\",\"value\":0.8},\"top\":{\"type\":\"field\",\"field\":\"VANDALISM\"},\"line_color\":{\"type\":\"value\",\"value\":\"brown\"},\"line_alpha\":{\"type\":\"value\",\"value\":0.1},\"fill_color\":{\"type\":\"value\",\"value\":\"brown\"},\"fill_alpha\":{\"type\":\"value\",\"value\":0.1},\"hatch_color\":{\"type\":\"value\",\"value\":\"brown\"},\"hatch_alpha\":{\"type\":\"value\",\"value\":0.1}}},\"muted_glyph\":{\"type\":\"object\",\"name\":\"VBar\",\"id\":\"p1114\",\"attributes\":{\"x\":{\"type\":\"field\",\"field\":\"Hour\"},\"width\":{\"type\":\"value\",\"value\":0.8},\"top\":{\"type\":\"field\",\"field\":\"VANDALISM\"},\"line_color\":{\"type\":\"value\",\"value\":\"brown\"},\"line_alpha\":{\"type\":\"value\",\"value\":0.05},\"fill_color\":{\"type\":\"value\",\"value\":\"brown\"},\"fill_alpha\":{\"type\":\"value\",\"value\":0.05},\"hatch_color\":{\"type\":\"value\",\"value\":\"brown\"},\"hatch_alpha\":{\"type\":\"value\",\"value\":0.05}}},\"muted\":true}},{\"type\":\"object\",\"name\":\"GlyphRenderer\",\"id\":\"p1125\",\"attributes\":{\"data_source\":{\"id\":\"p1001\"},\"view\":{\"type\":\"object\",\"name\":\"CDSView\",\"id\":\"p1126\",\"attributes\":{\"filter\":{\"type\":\"object\",\"name\":\"AllIndices\",\"id\":\"p1127\"}}},\"glyph\":{\"type\":\"object\",\"name\":\"VBar\",\"id\":\"p1122\",\"attributes\":{\"x\":{\"type\":\"field\",\"field\":\"Hour\"},\"width\":{\"type\":\"value\",\"value\":0.8},\"top\":{\"type\":\"field\",\"field\":\"VEHICLE THEFT\"},\"line_color\":{\"type\":\"value\",\"value\":\"gray\"},\"hatch_color\":{\"type\":\"value\",\"value\":\"gray\"}}},\"nonselection_glyph\":{\"type\":\"object\",\"name\":\"VBar\",\"id\":\"p1123\",\"attributes\":{\"x\":{\"type\":\"field\",\"field\":\"Hour\"},\"width\":{\"type\":\"value\",\"value\":0.8},\"top\":{\"type\":\"field\",\"field\":\"VEHICLE THEFT\"},\"line_color\":{\"type\":\"value\",\"value\":\"gray\"},\"line_alpha\":{\"type\":\"value\",\"value\":0.1},\"fill_alpha\":{\"type\":\"value\",\"value\":0.1},\"hatch_color\":{\"type\":\"value\",\"value\":\"gray\"},\"hatch_alpha\":{\"type\":\"value\",\"value\":0.1}}},\"muted_glyph\":{\"type\":\"object\",\"name\":\"VBar\",\"id\":\"p1124\",\"attributes\":{\"x\":{\"type\":\"field\",\"field\":\"Hour\"},\"width\":{\"type\":\"value\",\"value\":0.8},\"top\":{\"type\":\"field\",\"field\":\"VEHICLE THEFT\"},\"line_color\":{\"type\":\"value\",\"value\":\"gray\"},\"line_alpha\":{\"type\":\"value\",\"value\":0.05},\"fill_alpha\":{\"type\":\"value\",\"value\":0.05},\"hatch_color\":{\"type\":\"value\",\"value\":\"gray\"},\"hatch_alpha\":{\"type\":\"value\",\"value\":0.05}}},\"muted\":true}},{\"type\":\"object\",\"name\":\"GlyphRenderer\",\"id\":\"p1135\",\"attributes\":{\"data_source\":{\"id\":\"p1001\"},\"view\":{\"type\":\"object\",\"name\":\"CDSView\",\"id\":\"p1136\",\"attributes\":{\"filter\":{\"type\":\"object\",\"name\":\"AllIndices\",\"id\":\"p1137\"}}},\"glyph\":{\"type\":\"object\",\"name\":\"VBar\",\"id\":\"p1132\",\"attributes\":{\"x\":{\"type\":\"field\",\"field\":\"Hour\"},\"width\":{\"type\":\"value\",\"value\":0.8},\"top\":{\"type\":\"field\",\"field\":\"STOLEN PROPERTY\"},\"line_color\":{\"type\":\"value\",\"value\":\"cyan\"},\"fill_color\":{\"type\":\"value\",\"value\":\"cyan\"},\"hatch_color\":{\"type\":\"value\",\"value\":\"cyan\"}}},\"nonselection_glyph\":{\"type\":\"object\",\"name\":\"VBar\",\"id\":\"p1133\",\"attributes\":{\"x\":{\"type\":\"field\",\"field\":\"Hour\"},\"width\":{\"type\":\"value\",\"value\":0.8},\"top\":{\"type\":\"field\",\"field\":\"STOLEN PROPERTY\"},\"line_color\":{\"type\":\"value\",\"value\":\"cyan\"},\"line_alpha\":{\"type\":\"value\",\"value\":0.1},\"fill_color\":{\"type\":\"value\",\"value\":\"cyan\"},\"fill_alpha\":{\"type\":\"value\",\"value\":0.1},\"hatch_color\":{\"type\":\"value\",\"value\":\"cyan\"},\"hatch_alpha\":{\"type\":\"value\",\"value\":0.1}}},\"muted_glyph\":{\"type\":\"object\",\"name\":\"VBar\",\"id\":\"p1134\",\"attributes\":{\"x\":{\"type\":\"field\",\"field\":\"Hour\"},\"width\":{\"type\":\"value\",\"value\":0.8},\"top\":{\"type\":\"field\",\"field\":\"STOLEN PROPERTY\"},\"line_color\":{\"type\":\"value\",\"value\":\"cyan\"},\"line_alpha\":{\"type\":\"value\",\"value\":0.05},\"fill_color\":{\"type\":\"value\",\"value\":\"cyan\"},\"fill_alpha\":{\"type\":\"value\",\"value\":0.05},\"hatch_color\":{\"type\":\"value\",\"value\":\"cyan\"},\"hatch_alpha\":{\"type\":\"value\",\"value\":0.05}}},\"muted\":true}}],\"toolbar\":{\"type\":\"object\",\"name\":\"Toolbar\",\"id\":\"p1014\",\"attributes\":{\"tools\":[{\"type\":\"object\",\"name\":\"PanTool\",\"id\":\"p1027\"},{\"type\":\"object\",\"name\":\"BoxZoomTool\",\"id\":\"p1028\",\"attributes\":{\"overlay\":{\"type\":\"object\",\"name\":\"BoxAnnotation\",\"id\":\"p1029\",\"attributes\":{\"syncable\":false,\"line_color\":\"black\",\"line_alpha\":1.0,\"line_width\":2,\"line_dash\":[4,4],\"fill_color\":\"lightgrey\",\"fill_alpha\":0.5,\"level\":\"overlay\",\"visible\":false,\"left\":{\"type\":\"number\",\"value\":\"nan\"},\"right\":{\"type\":\"number\",\"value\":\"nan\"},\"top\":{\"type\":\"number\",\"value\":\"nan\"},\"bottom\":{\"type\":\"number\",\"value\":\"nan\"},\"left_units\":\"canvas\",\"right_units\":\"canvas\",\"top_units\":\"canvas\",\"bottom_units\":\"canvas\",\"handles\":{\"type\":\"object\",\"name\":\"BoxInteractionHandles\",\"id\":\"p1035\",\"attributes\":{\"all\":{\"type\":\"object\",\"name\":\"AreaVisuals\",\"id\":\"p1034\",\"attributes\":{\"fill_color\":\"white\",\"hover_fill_color\":\"lightgray\"}}}}}}}},{\"type\":\"object\",\"name\":\"ResetTool\",\"id\":\"p1036\"},{\"type\":\"object\",\"name\":\"SaveTool\",\"id\":\"p1037\"}]}},\"left\":[{\"type\":\"object\",\"name\":\"LinearAxis\",\"id\":\"p1022\",\"attributes\":{\"ticker\":{\"type\":\"object\",\"name\":\"BasicTicker\",\"id\":\"p1023\",\"attributes\":{\"mantissas\":[1,2,5]}},\"formatter\":{\"type\":\"object\",\"name\":\"BasicTickFormatter\",\"id\":\"p1024\"},\"axis_label\":\"Relative Frequency\",\"major_label_policy\":{\"type\":\"object\",\"name\":\"AllLabels\",\"id\":\"p1025\"}}},{\"type\":\"object\",\"name\":\"Legend\",\"id\":\"p1047\",\"attributes\":{\"location\":\"center_left\",\"click_policy\":\"mute\",\"label_text_font_size\":\"8pt\",\"label_height\":15,\"label_width\":15,\"glyph_height\":15,\"glyph_width\":15,\"padding\":4,\"spacing\":4,\"items\":[{\"type\":\"object\",\"name\":\"LegendItem\",\"id\":\"p1048\",\"attributes\":{\"label\":{\"type\":\"value\",\"value\":\"WEAPON LAWS\"},\"renderers\":[{\"id\":\"p1044\"}]}},{\"type\":\"object\",\"name\":\"LegendItem\",\"id\":\"p1058\",\"attributes\":{\"label\":{\"type\":\"value\",\"value\":\"PROSTITUTION\"},\"renderers\":[{\"id\":\"p1055\"}]}},{\"type\":\"object\",\"name\":\"LegendItem\",\"id\":\"p1068\",\"attributes\":{\"label\":{\"type\":\"value\",\"value\":\"ROBBERY\"},\"renderers\":[{\"id\":\"p1065\"}]}},{\"type\":\"object\",\"name\":\"LegendItem\",\"id\":\"p1078\",\"attributes\":{\"label\":{\"type\":\"value\",\"value\":\"BURGLARY\"},\"renderers\":[{\"id\":\"p1075\"}]}},{\"type\":\"object\",\"name\":\"LegendItem\",\"id\":\"p1088\",\"attributes\":{\"label\":{\"type\":\"value\",\"value\":\"ASSAULT\"},\"renderers\":[{\"id\":\"p1085\"}]}},{\"type\":\"object\",\"name\":\"LegendItem\",\"id\":\"p1098\",\"attributes\":{\"label\":{\"type\":\"value\",\"value\":\"DRUG/NARCOTIC\"},\"renderers\":[{\"id\":\"p1095\"}]}},{\"type\":\"object\",\"name\":\"LegendItem\",\"id\":\"p1108\",\"attributes\":{\"label\":{\"type\":\"value\",\"value\":\"LARCENY/THEFT\"},\"renderers\":[{\"id\":\"p1105\"}]}},{\"type\":\"object\",\"name\":\"LegendItem\",\"id\":\"p1118\",\"attributes\":{\"label\":{\"type\":\"value\",\"value\":\"VANDALISM\"},\"renderers\":[{\"id\":\"p1115\"}]}},{\"type\":\"object\",\"name\":\"LegendItem\",\"id\":\"p1128\",\"attributes\":{\"label\":{\"type\":\"value\",\"value\":\"VEHICLE THEFT\"},\"renderers\":[{\"id\":\"p1125\"}]}},{\"type\":\"object\",\"name\":\"LegendItem\",\"id\":\"p1138\",\"attributes\":{\"label\":{\"type\":\"value\",\"value\":\"STOLEN PROPERTY\"},\"renderers\":[{\"id\":\"p1135\"}]}}]}}],\"below\":[{\"type\":\"object\",\"name\":\"CategoricalAxis\",\"id\":\"p1017\",\"attributes\":{\"ticker\":{\"type\":\"object\",\"name\":\"CategoricalTicker\",\"id\":\"p1018\"},\"formatter\":{\"type\":\"object\",\"name\":\"CategoricalTickFormatter\",\"id\":\"p1019\"},\"axis_label\":\"Hour of Day\",\"major_label_policy\":{\"type\":\"object\",\"name\":\"AllLabels\",\"id\":\"p1020\"}}}],\"center\":[{\"type\":\"object\",\"name\":\"Grid\",\"id\":\"p1021\",\"attributes\":{\"axis\":{\"id\":\"p1017\"}}},{\"type\":\"object\",\"name\":\"Grid\",\"id\":\"p1026\",\"attributes\":{\"dimension\":1,\"axis\":{\"id\":\"p1022\"}}},{\"id\":\"p1047\"}]}}]}};\n  const render_items = [{\"docid\":\"3506a682-7b4d-464c-b510-528fd0b61ce9\",\"roots\":{\"p1005\":\"c7538ddf-c589-4794-a8ed-19d01299f3b3\"},\"root_ids\":[\"p1005\"]}];\n  void root.Bokeh.embed.embed_items_notebook(docs_json, render_items);\n  }\n  if (root.Bokeh !== undefined) {\n    embed_document(root);\n  } else {\n    let attempts = 0;\n    const timer = setInterval(function(root) {\n      if (root.Bokeh !== undefined) {\n        clearInterval(timer);\n        embed_document(root);\n      } else {\n        attempts++;\n        if (attempts > 100) {\n          clearInterval(timer);\n          console.log(\"Bokeh: ERROR: Unable to run BokehJS code because BokehJS library is missing\");\n        }\n      }\n    }, 10, root)\n  }\n})(window);",
      "application/vnd.bokehjs_exec.v0+json": ""
     },
     "metadata": {
      "application/vnd.bokehjs_exec.v0+json": {
       "id": "p1005"
      }
     },
     "output_type": "display_data"
    }
   ],
   "source": [
    "bars = {}  # hold references if you want them\n",
    "for i, crime in enumerate(focuscrimes):\n",
    "    bars[crime] = p.vbar(\n",
    "        x='Hour',\n",
    "        top=crime,\n",
    "        width=0.8,\n",
    "        source=source,\n",
    "        color=colors[i % len(colors)],\n",
    "        legend_label=crime,\n",
    "        muted=True,         # start as visible\n",
    "        muted_alpha=0.05    # fade out or set to 0\n",
    "    )\n",
    "\n",
    "# Make legend interactive (click to hide/show a crime)\n",
    "p.legend.click_policy = \"mute\"\n",
    "p.legend.location = \"center_left\"\n",
    "\n",
    "# Adjust legend font size and move it outside the plot area\n",
    "p.add_layout(p.legend[0], 'left')\n",
    "p.legend.label_text_font_size = '8pt'\n",
    "p.legend.label_height = 15\n",
    "p.legend.label_width = 15\n",
    "p.legend.glyph_height = 15\n",
    "p.legend.glyph_width = 15\n",
    "p.legend.spacing = 4\n",
    "p.legend.padding = 4\n",
    "\n",
    "# Show the interactive plot\n",
    "show(p)"
   ]
  },
  {
   "cell_type": "markdown",
   "metadata": {},
   "source": [
    "#### Further implementations of Bokeh"
   ]
  },
  {
   "cell_type": "code",
   "execution_count": 9,
   "metadata": {},
   "outputs": [],
   "source": [
    "grouped = df.groupby(['PdDistrict', 'Category']).size().reset_index(name='count')\n",
    "\n",
    "# Pivot so each row is a district, each column is one crime type\n",
    "pivoted = grouped.pivot(index='PdDistrict', columns='Category', values='count').fillna(0)\n",
    "\n",
    "# Normalize each row by its row sum (sum of all crimes in that district)\n",
    "pivoted = pivoted.apply(lambda row: row / row.sum(), axis=1)\n",
    "\n",
    "# Some districts might have zero total crimes in your subset\n",
    "pivoted = pivoted.fillna(0)\n",
    "\n",
    "# Reset for Bokeh\n",
    "pivoted.reset_index(inplace=True)"
   ]
  },
  {
   "cell_type": "code",
   "execution_count": 10,
   "metadata": {},
   "outputs": [],
   "source": [
    "source = ColumnDataSource(pivoted)\n",
    "districts = pivoted['PdDistrict'].tolist()     # for the x-axis\n",
    "stackers = [c for c in focuscrimes]  \n",
    "\n",
    "p = figure(\n",
    "    x_range=districts, \n",
    "    height=450, \n",
    "    width=800,\n",
    "    title='Normalized Crime by District (Stacked Bars)',\n",
    "    toolbar_location='right',\n",
    "    tools=\"pan,box_zoom,reset,save\"\n",
    ")\n",
    "\n",
    "# Create a HoverTool. \n",
    "# $name inserts the \"name=\" assigned to each stacker \n",
    "# @$name inserts the column value for that stacker.\n",
    "hover = HoverTool(tooltips=[\n",
    "    (\"District\", \"@PdDistrict\"),\n",
    "    (\"Crime\", \"$name\"),\n",
    "    (\"Fraction\", \"@$name{0.0%}\")\n",
    "])\n",
    "p.add_tools(hover)          # columns we want to stack"
   ]
  },
  {
   "cell_type": "code",
   "execution_count": 11,
   "metadata": {},
   "outputs": [
    {
     "data": {
      "text/html": [
       "\n",
       "  <div id=\"e8c472fe-94c2-4261-b32d-5ff9c642afdc\" data-root-id=\"p1153\" style=\"display: contents;\"></div>\n"
      ]
     },
     "metadata": {},
     "output_type": "display_data"
    },
    {
     "data": {
      "application/javascript": "(function(root) {\n  function embed_document(root) {\n  const docs_json = {\"f8ef5e11-217e-4317-b554-31900678182b\":{\"version\":\"3.6.3\",\"title\":\"Bokeh Application\",\"roots\":[{\"type\":\"object\",\"name\":\"Figure\",\"id\":\"p1153\",\"attributes\":{\"width\":800,\"height\":450,\"x_range\":{\"type\":\"object\",\"name\":\"FactorRange\",\"id\":\"p1163\",\"attributes\":{\"factors\":[\"BAYVIEW\",\"CENTRAL\",\"INGLESIDE\",\"MISSION\",\"NORTHERN\",\"PARK\",\"RICHMOND\",\"SOUTHERN\",\"TARAVAL\",\"TENDERLOIN\"]}},\"y_range\":{\"type\":\"object\",\"name\":\"DataRange1d\",\"id\":\"p1155\",\"attributes\":{\"start\":0}},\"x_scale\":{\"type\":\"object\",\"name\":\"CategoricalScale\",\"id\":\"p1164\"},\"y_scale\":{\"type\":\"object\",\"name\":\"LinearScale\",\"id\":\"p1165\"},\"title\":{\"type\":\"object\",\"name\":\"Title\",\"id\":\"p1156\",\"attributes\":{\"text\":\"Normalized Crime by District (Stacked Bars)\"}},\"renderers\":[{\"type\":\"object\",\"name\":\"GlyphRenderer\",\"id\":\"p1214\",\"attributes\":{\"name\":\"WEAPON LAWS\",\"data_source\":{\"type\":\"object\",\"name\":\"ColumnDataSource\",\"id\":\"p1150\",\"attributes\":{\"selected\":{\"type\":\"object\",\"name\":\"Selection\",\"id\":\"p1151\",\"attributes\":{\"indices\":[],\"line_indices\":[]}},\"selection_policy\":{\"type\":\"object\",\"name\":\"UnionRenderers\",\"id\":\"p1152\"},\"data\":{\"type\":\"map\",\"entries\":[[\"index\",{\"type\":\"ndarray\",\"array\":{\"type\":\"bytes\",\"data\":\"AAAAAAEAAAACAAAAAwAAAAQAAAAFAAAABgAAAAcAAAAIAAAACQAAAA==\"},\"shape\":[10],\"dtype\":\"int32\",\"order\":\"little\"}],[\"PdDistrict\",{\"type\":\"ndarray\",\"array\":[\"BAYVIEW\",\"CENTRAL\",\"INGLESIDE\",\"MISSION\",\"NORTHERN\",\"PARK\",\"RICHMOND\",\"SOUTHERN\",\"TARAVAL\",\"TENDERLOIN\"],\"shape\":[10],\"dtype\":\"object\",\"order\":\"little\"}],[\"ASSAULT\",{\"type\":\"ndarray\",\"array\":{\"type\":\"bytes\",\"data\":\"Kc1rwh5xxD8QUIbN5Ru1P83CwHiSRME/8+R3i4mCxD8IOXLKcEq2P0CwWEQB9rU/1XZuRlzesD/cvf1Jflq/Pxq865kDfLg/GPRL305kyT8=\"},\"shape\":[10],\"dtype\":\"float64\",\"order\":\"little\"}],[\"BURGLARY\",{\"type\":\"ndarray\",\"array\":{\"type\":\"bytes\",\"data\":\"2/rjC8gytT9pEAQVW16zP6sGxy6ITro/Caycf8L0tT/emZsyteK2PzSwFifCM74/OJHllh4fuT9B7Il3aSC0P7DIRNqmqbw/XZEfZcnZpT8=\"},\"shape\":[10],\"dtype\":\"float64\",\"order\":\"little\"}],[\"DRUG/NARCOTIC\",{\"type\":\"ndarray\",\"array\":{\"type\":\"bytes\",\"data\":\"evqUMA+RnD8KrD2lF3ORP/V1Dn50EpY/K784Hib3qT8RHApBxwiePyHCks/vDaI/OeQRKBIliT//w64mjiCrPynM+AdPfIo/uY54j0uxzj8=\"},\"shape\":[10],\"dtype\":\"float64\",\"order\":\"little\"}],[\"LARCENY/THEFT\",{\"type\":\"ndarray\",\"array\":{\"type\":\"bytes\",\"data\":\"ILBP7LkB1T+5tINpcpfjP9WLJchpgtY/TwL1gGTG2D+8VcmKh33iP9zS+w3UDuA/rUy3G03o4j+lWX76VWjgP22n1Gcv0N4/Tw4GQAzv0j8=\"},\"shape\":[10],\"dtype\":\"float64\",\"order\":\"little\"}],[\"PROSTITUTION\",{\"type\":\"ndarray\",\"array\":{\"type\":\"bytes\",\"data\":\"Ng/mk0LjNz/lySx701ZuP8+BYsfDaEM/EUQXjdDIhT+7NrPWiilcP0su1T42CC4/MwUWgIzyPj9SdMUlTYJuP4Owxw8k43Q/7bWK5fDoXz8=\"},\"shape\":[10],\"dtype\":\"float64\",\"order\":\"little\"}],[\"ROBBERY\",{\"type\":\"ndarray\",\"array\":{\"type\":\"bytes\",\"data\":\"pwmY/WDopz95VBT04eWhP1heqX9Ovao/8izL379iqz8/paiYP5KePwQX9Y7trZU/66tLf3pSlz9EszXSSZGiP5oOHOIte50//cqwFfSWrz8=\"},\"shape\":[10],\"dtype\":\"float64\",\"order\":\"little\"}],[\"STOLEN PROPERTY\",{\"type\":\"ndarray\",\"array\":{\"type\":\"bytes\",\"data\":\"9OjxsYZXhD9VrwiVyZCEP92K52ZwGIA/y85+jTqehD+CL9zj6QCDP81yPRsp2H0/gIR1Rw3Iej/LNcKbmviEP3gm/rZzlXo//ldN6laphT8=\"},\"shape\":[10],\"dtype\":\"float64\",\"order\":\"little\"}],[\"VANDALISM\",{\"type\":\"ndarray\",\"array\":{\"type\":\"bytes\",\"data\":\"ZC/qwHBTwT+SsuDqXHi7P0d63neXd8A/R1k5nnXvvD/0PzIV7JS5P3ipl0Bh0bw/fYvwkzK2uj+dCo+algi7P+HX5DxINb8/qBomT0IOsz8=\"},\"shape\":[10],\"dtype\":\"float64\",\"order\":\"little\"}],[\"VEHICLE THEFT\",{\"type\":\"ndarray\",\"array\":{\"type\":\"bytes\",\"data\":\"aJO8YywcxT+ZGa9iDQunP6CsZBl67sU/UeQ9mG1ZuT+DJoHf+XKwPyyai/4Bdbs/5FRa9DIrtz+E1Pe7vEGuP5VHTUnOKr8/7BG2rt/HpD8=\"},\"shape\":[10],\"dtype\":\"float64\",\"order\":\"little\"}],[\"WEAPON LAWS\",{\"type\":\"ndarray\",\"array\":{\"type\":\"bytes\",\"data\":\"O3zpISCTpj9LR10aDL6HPzjOW6OSFZ0/RytOM4Onnj8ArYjNlDmHP6Ljpmn30YU/0+LQthPQgD+Hl4fjhrOSP4kbwoIUnYw/ATMrO3VyoT8=\"},\"shape\":[10],\"dtype\":\"float64\",\"order\":\"little\"}]]}}},\"view\":{\"type\":\"object\",\"name\":\"CDSView\",\"id\":\"p1215\",\"attributes\":{\"filter\":{\"type\":\"object\",\"name\":\"AllIndices\",\"id\":\"p1216\"}}},\"glyph\":{\"type\":\"object\",\"name\":\"VBar\",\"id\":\"p1211\",\"attributes\":{\"x\":{\"type\":\"field\",\"field\":\"PdDistrict\"},\"width\":{\"type\":\"value\",\"value\":0.9},\"bottom\":{\"type\":\"expr\",\"expr\":{\"type\":\"object\",\"name\":\"Stack\",\"id\":\"p1188\",\"attributes\":{\"fields\":[]}}},\"top\":{\"type\":\"expr\",\"expr\":{\"type\":\"object\",\"name\":\"Stack\",\"id\":\"p1189\",\"attributes\":{\"fields\":[\"WEAPON LAWS\"]}}},\"line_color\":{\"type\":\"value\",\"value\":\"#5DA5DA\"},\"fill_color\":{\"type\":\"value\",\"value\":\"#5DA5DA\"},\"hatch_color\":{\"type\":\"value\",\"value\":\"#5DA5DA\"}}},\"nonselection_glyph\":{\"type\":\"object\",\"name\":\"VBar\",\"id\":\"p1212\",\"attributes\":{\"x\":{\"type\":\"field\",\"field\":\"PdDistrict\"},\"width\":{\"type\":\"value\",\"value\":0.9},\"bottom\":{\"type\":\"expr\",\"expr\":{\"id\":\"p1188\"}},\"top\":{\"type\":\"expr\",\"expr\":{\"id\":\"p1189\"}},\"line_color\":{\"type\":\"value\",\"value\":\"#5DA5DA\"},\"line_alpha\":{\"type\":\"value\",\"value\":0.1},\"fill_color\":{\"type\":\"value\",\"value\":\"#5DA5DA\"},\"fill_alpha\":{\"type\":\"value\",\"value\":0.1},\"hatch_color\":{\"type\":\"value\",\"value\":\"#5DA5DA\"},\"hatch_alpha\":{\"type\":\"value\",\"value\":0.1}}},\"muted_glyph\":{\"type\":\"object\",\"name\":\"VBar\",\"id\":\"p1213\",\"attributes\":{\"x\":{\"type\":\"field\",\"field\":\"PdDistrict\"},\"width\":{\"type\":\"value\",\"value\":0.9},\"bottom\":{\"type\":\"expr\",\"expr\":{\"id\":\"p1188\"}},\"top\":{\"type\":\"expr\",\"expr\":{\"id\":\"p1189\"}},\"line_color\":{\"type\":\"value\",\"value\":\"#5DA5DA\"},\"line_alpha\":{\"type\":\"value\",\"value\":0.2},\"fill_color\":{\"type\":\"value\",\"value\":\"#5DA5DA\"},\"fill_alpha\":{\"type\":\"value\",\"value\":0.2},\"hatch_color\":{\"type\":\"value\",\"value\":\"#5DA5DA\"},\"hatch_alpha\":{\"type\":\"value\",\"value\":0.2}}}}},{\"type\":\"object\",\"name\":\"GlyphRenderer\",\"id\":\"p1225\",\"attributes\":{\"name\":\"PROSTITUTION\",\"data_source\":{\"id\":\"p1150\"},\"view\":{\"type\":\"object\",\"name\":\"CDSView\",\"id\":\"p1226\",\"attributes\":{\"filter\":{\"type\":\"object\",\"name\":\"AllIndices\",\"id\":\"p1227\"}}},\"glyph\":{\"type\":\"object\",\"name\":\"VBar\",\"id\":\"p1222\",\"attributes\":{\"x\":{\"type\":\"field\",\"field\":\"PdDistrict\"},\"width\":{\"type\":\"value\",\"value\":0.9},\"bottom\":{\"type\":\"expr\",\"expr\":{\"type\":\"object\",\"name\":\"Stack\",\"id\":\"p1190\",\"attributes\":{\"fields\":[\"WEAPON LAWS\"]}}},\"top\":{\"type\":\"expr\",\"expr\":{\"type\":\"object\",\"name\":\"Stack\",\"id\":\"p1191\",\"attributes\":{\"fields\":[\"WEAPON LAWS\",\"PROSTITUTION\"]}}},\"line_color\":{\"type\":\"value\",\"value\":\"#FAA43A\"},\"fill_color\":{\"type\":\"value\",\"value\":\"#FAA43A\"},\"hatch_color\":{\"type\":\"value\",\"value\":\"#FAA43A\"}}},\"nonselection_glyph\":{\"type\":\"object\",\"name\":\"VBar\",\"id\":\"p1223\",\"attributes\":{\"x\":{\"type\":\"field\",\"field\":\"PdDistrict\"},\"width\":{\"type\":\"value\",\"value\":0.9},\"bottom\":{\"type\":\"expr\",\"expr\":{\"id\":\"p1190\"}},\"top\":{\"type\":\"expr\",\"expr\":{\"id\":\"p1191\"}},\"line_color\":{\"type\":\"value\",\"value\":\"#FAA43A\"},\"line_alpha\":{\"type\":\"value\",\"value\":0.1},\"fill_color\":{\"type\":\"value\",\"value\":\"#FAA43A\"},\"fill_alpha\":{\"type\":\"value\",\"value\":0.1},\"hatch_color\":{\"type\":\"value\",\"value\":\"#FAA43A\"},\"hatch_alpha\":{\"type\":\"value\",\"value\":0.1}}},\"muted_glyph\":{\"type\":\"object\",\"name\":\"VBar\",\"id\":\"p1224\",\"attributes\":{\"x\":{\"type\":\"field\",\"field\":\"PdDistrict\"},\"width\":{\"type\":\"value\",\"value\":0.9},\"bottom\":{\"type\":\"expr\",\"expr\":{\"id\":\"p1190\"}},\"top\":{\"type\":\"expr\",\"expr\":{\"id\":\"p1191\"}},\"line_color\":{\"type\":\"value\",\"value\":\"#FAA43A\"},\"line_alpha\":{\"type\":\"value\",\"value\":0.2},\"fill_color\":{\"type\":\"value\",\"value\":\"#FAA43A\"},\"fill_alpha\":{\"type\":\"value\",\"value\":0.2},\"hatch_color\":{\"type\":\"value\",\"value\":\"#FAA43A\"},\"hatch_alpha\":{\"type\":\"value\",\"value\":0.2}}}}},{\"type\":\"object\",\"name\":\"GlyphRenderer\",\"id\":\"p1235\",\"attributes\":{\"name\":\"ROBBERY\",\"data_source\":{\"id\":\"p1150\"},\"view\":{\"type\":\"object\",\"name\":\"CDSView\",\"id\":\"p1236\",\"attributes\":{\"filter\":{\"type\":\"object\",\"name\":\"AllIndices\",\"id\":\"p1237\"}}},\"glyph\":{\"type\":\"object\",\"name\":\"VBar\",\"id\":\"p1232\",\"attributes\":{\"x\":{\"type\":\"field\",\"field\":\"PdDistrict\"},\"width\":{\"type\":\"value\",\"value\":0.9},\"bottom\":{\"type\":\"expr\",\"expr\":{\"type\":\"object\",\"name\":\"Stack\",\"id\":\"p1192\",\"attributes\":{\"fields\":[\"WEAPON LAWS\",\"PROSTITUTION\"]}}},\"top\":{\"type\":\"expr\",\"expr\":{\"type\":\"object\",\"name\":\"Stack\",\"id\":\"p1193\",\"attributes\":{\"fields\":[\"WEAPON LAWS\",\"PROSTITUTION\",\"ROBBERY\"]}}},\"line_color\":{\"type\":\"value\",\"value\":\"#60BD68\"},\"fill_color\":{\"type\":\"value\",\"value\":\"#60BD68\"},\"hatch_color\":{\"type\":\"value\",\"value\":\"#60BD68\"}}},\"nonselection_glyph\":{\"type\":\"object\",\"name\":\"VBar\",\"id\":\"p1233\",\"attributes\":{\"x\":{\"type\":\"field\",\"field\":\"PdDistrict\"},\"width\":{\"type\":\"value\",\"value\":0.9},\"bottom\":{\"type\":\"expr\",\"expr\":{\"id\":\"p1192\"}},\"top\":{\"type\":\"expr\",\"expr\":{\"id\":\"p1193\"}},\"line_color\":{\"type\":\"value\",\"value\":\"#60BD68\"},\"line_alpha\":{\"type\":\"value\",\"value\":0.1},\"fill_color\":{\"type\":\"value\",\"value\":\"#60BD68\"},\"fill_alpha\":{\"type\":\"value\",\"value\":0.1},\"hatch_color\":{\"type\":\"value\",\"value\":\"#60BD68\"},\"hatch_alpha\":{\"type\":\"value\",\"value\":0.1}}},\"muted_glyph\":{\"type\":\"object\",\"name\":\"VBar\",\"id\":\"p1234\",\"attributes\":{\"x\":{\"type\":\"field\",\"field\":\"PdDistrict\"},\"width\":{\"type\":\"value\",\"value\":0.9},\"bottom\":{\"type\":\"expr\",\"expr\":{\"id\":\"p1192\"}},\"top\":{\"type\":\"expr\",\"expr\":{\"id\":\"p1193\"}},\"line_color\":{\"type\":\"value\",\"value\":\"#60BD68\"},\"line_alpha\":{\"type\":\"value\",\"value\":0.2},\"fill_color\":{\"type\":\"value\",\"value\":\"#60BD68\"},\"fill_alpha\":{\"type\":\"value\",\"value\":0.2},\"hatch_color\":{\"type\":\"value\",\"value\":\"#60BD68\"},\"hatch_alpha\":{\"type\":\"value\",\"value\":0.2}}}}},{\"type\":\"object\",\"name\":\"GlyphRenderer\",\"id\":\"p1245\",\"attributes\":{\"name\":\"BURGLARY\",\"data_source\":{\"id\":\"p1150\"},\"view\":{\"type\":\"object\",\"name\":\"CDSView\",\"id\":\"p1246\",\"attributes\":{\"filter\":{\"type\":\"object\",\"name\":\"AllIndices\",\"id\":\"p1247\"}}},\"glyph\":{\"type\":\"object\",\"name\":\"VBar\",\"id\":\"p1242\",\"attributes\":{\"x\":{\"type\":\"field\",\"field\":\"PdDistrict\"},\"width\":{\"type\":\"value\",\"value\":0.9},\"bottom\":{\"type\":\"expr\",\"expr\":{\"type\":\"object\",\"name\":\"Stack\",\"id\":\"p1194\",\"attributes\":{\"fields\":[\"WEAPON LAWS\",\"PROSTITUTION\",\"ROBBERY\"]}}},\"top\":{\"type\":\"expr\",\"expr\":{\"type\":\"object\",\"name\":\"Stack\",\"id\":\"p1195\",\"attributes\":{\"fields\":[\"WEAPON LAWS\",\"PROSTITUTION\",\"ROBBERY\",\"BURGLARY\"]}}},\"line_color\":{\"type\":\"value\",\"value\":\"#F17CB0\"},\"fill_color\":{\"type\":\"value\",\"value\":\"#F17CB0\"},\"hatch_color\":{\"type\":\"value\",\"value\":\"#F17CB0\"}}},\"nonselection_glyph\":{\"type\":\"object\",\"name\":\"VBar\",\"id\":\"p1243\",\"attributes\":{\"x\":{\"type\":\"field\",\"field\":\"PdDistrict\"},\"width\":{\"type\":\"value\",\"value\":0.9},\"bottom\":{\"type\":\"expr\",\"expr\":{\"id\":\"p1194\"}},\"top\":{\"type\":\"expr\",\"expr\":{\"id\":\"p1195\"}},\"line_color\":{\"type\":\"value\",\"value\":\"#F17CB0\"},\"line_alpha\":{\"type\":\"value\",\"value\":0.1},\"fill_color\":{\"type\":\"value\",\"value\":\"#F17CB0\"},\"fill_alpha\":{\"type\":\"value\",\"value\":0.1},\"hatch_color\":{\"type\":\"value\",\"value\":\"#F17CB0\"},\"hatch_alpha\":{\"type\":\"value\",\"value\":0.1}}},\"muted_glyph\":{\"type\":\"object\",\"name\":\"VBar\",\"id\":\"p1244\",\"attributes\":{\"x\":{\"type\":\"field\",\"field\":\"PdDistrict\"},\"width\":{\"type\":\"value\",\"value\":0.9},\"bottom\":{\"type\":\"expr\",\"expr\":{\"id\":\"p1194\"}},\"top\":{\"type\":\"expr\",\"expr\":{\"id\":\"p1195\"}},\"line_color\":{\"type\":\"value\",\"value\":\"#F17CB0\"},\"line_alpha\":{\"type\":\"value\",\"value\":0.2},\"fill_color\":{\"type\":\"value\",\"value\":\"#F17CB0\"},\"fill_alpha\":{\"type\":\"value\",\"value\":0.2},\"hatch_color\":{\"type\":\"value\",\"value\":\"#F17CB0\"},\"hatch_alpha\":{\"type\":\"value\",\"value\":0.2}}}}},{\"type\":\"object\",\"name\":\"GlyphRenderer\",\"id\":\"p1255\",\"attributes\":{\"name\":\"ASSAULT\",\"data_source\":{\"id\":\"p1150\"},\"view\":{\"type\":\"object\",\"name\":\"CDSView\",\"id\":\"p1256\",\"attributes\":{\"filter\":{\"type\":\"object\",\"name\":\"AllIndices\",\"id\":\"p1257\"}}},\"glyph\":{\"type\":\"object\",\"name\":\"VBar\",\"id\":\"p1252\",\"attributes\":{\"x\":{\"type\":\"field\",\"field\":\"PdDistrict\"},\"width\":{\"type\":\"value\",\"value\":0.9},\"bottom\":{\"type\":\"expr\",\"expr\":{\"type\":\"object\",\"name\":\"Stack\",\"id\":\"p1196\",\"attributes\":{\"fields\":[\"WEAPON LAWS\",\"PROSTITUTION\",\"ROBBERY\",\"BURGLARY\"]}}},\"top\":{\"type\":\"expr\",\"expr\":{\"type\":\"object\",\"name\":\"Stack\",\"id\":\"p1197\",\"attributes\":{\"fields\":[\"WEAPON LAWS\",\"PROSTITUTION\",\"ROBBERY\",\"BURGLARY\",\"ASSAULT\"]}}},\"line_color\":{\"type\":\"value\",\"value\":\"#B2912F\"},\"fill_color\":{\"type\":\"value\",\"value\":\"#B2912F\"},\"hatch_color\":{\"type\":\"value\",\"value\":\"#B2912F\"}}},\"nonselection_glyph\":{\"type\":\"object\",\"name\":\"VBar\",\"id\":\"p1253\",\"attributes\":{\"x\":{\"type\":\"field\",\"field\":\"PdDistrict\"},\"width\":{\"type\":\"value\",\"value\":0.9},\"bottom\":{\"type\":\"expr\",\"expr\":{\"id\":\"p1196\"}},\"top\":{\"type\":\"expr\",\"expr\":{\"id\":\"p1197\"}},\"line_color\":{\"type\":\"value\",\"value\":\"#B2912F\"},\"line_alpha\":{\"type\":\"value\",\"value\":0.1},\"fill_color\":{\"type\":\"value\",\"value\":\"#B2912F\"},\"fill_alpha\":{\"type\":\"value\",\"value\":0.1},\"hatch_color\":{\"type\":\"value\",\"value\":\"#B2912F\"},\"hatch_alpha\":{\"type\":\"value\",\"value\":0.1}}},\"muted_glyph\":{\"type\":\"object\",\"name\":\"VBar\",\"id\":\"p1254\",\"attributes\":{\"x\":{\"type\":\"field\",\"field\":\"PdDistrict\"},\"width\":{\"type\":\"value\",\"value\":0.9},\"bottom\":{\"type\":\"expr\",\"expr\":{\"id\":\"p1196\"}},\"top\":{\"type\":\"expr\",\"expr\":{\"id\":\"p1197\"}},\"line_color\":{\"type\":\"value\",\"value\":\"#B2912F\"},\"line_alpha\":{\"type\":\"value\",\"value\":0.2},\"fill_color\":{\"type\":\"value\",\"value\":\"#B2912F\"},\"fill_alpha\":{\"type\":\"value\",\"value\":0.2},\"hatch_color\":{\"type\":\"value\",\"value\":\"#B2912F\"},\"hatch_alpha\":{\"type\":\"value\",\"value\":0.2}}}}},{\"type\":\"object\",\"name\":\"GlyphRenderer\",\"id\":\"p1265\",\"attributes\":{\"name\":\"DRUG/NARCOTIC\",\"data_source\":{\"id\":\"p1150\"},\"view\":{\"type\":\"object\",\"name\":\"CDSView\",\"id\":\"p1266\",\"attributes\":{\"filter\":{\"type\":\"object\",\"name\":\"AllIndices\",\"id\":\"p1267\"}}},\"glyph\":{\"type\":\"object\",\"name\":\"VBar\",\"id\":\"p1262\",\"attributes\":{\"x\":{\"type\":\"field\",\"field\":\"PdDistrict\"},\"width\":{\"type\":\"value\",\"value\":0.9},\"bottom\":{\"type\":\"expr\",\"expr\":{\"type\":\"object\",\"name\":\"Stack\",\"id\":\"p1198\",\"attributes\":{\"fields\":[\"WEAPON LAWS\",\"PROSTITUTION\",\"ROBBERY\",\"BURGLARY\",\"ASSAULT\"]}}},\"top\":{\"type\":\"expr\",\"expr\":{\"type\":\"object\",\"name\":\"Stack\",\"id\":\"p1199\",\"attributes\":{\"fields\":[\"WEAPON LAWS\",\"PROSTITUTION\",\"ROBBERY\",\"BURGLARY\",\"ASSAULT\",\"DRUG/NARCOTIC\"]}}},\"line_color\":{\"type\":\"value\",\"value\":\"#B276B2\"},\"fill_color\":{\"type\":\"value\",\"value\":\"#B276B2\"},\"hatch_color\":{\"type\":\"value\",\"value\":\"#B276B2\"}}},\"nonselection_glyph\":{\"type\":\"object\",\"name\":\"VBar\",\"id\":\"p1263\",\"attributes\":{\"x\":{\"type\":\"field\",\"field\":\"PdDistrict\"},\"width\":{\"type\":\"value\",\"value\":0.9},\"bottom\":{\"type\":\"expr\",\"expr\":{\"id\":\"p1198\"}},\"top\":{\"type\":\"expr\",\"expr\":{\"id\":\"p1199\"}},\"line_color\":{\"type\":\"value\",\"value\":\"#B276B2\"},\"line_alpha\":{\"type\":\"value\",\"value\":0.1},\"fill_color\":{\"type\":\"value\",\"value\":\"#B276B2\"},\"fill_alpha\":{\"type\":\"value\",\"value\":0.1},\"hatch_color\":{\"type\":\"value\",\"value\":\"#B276B2\"},\"hatch_alpha\":{\"type\":\"value\",\"value\":0.1}}},\"muted_glyph\":{\"type\":\"object\",\"name\":\"VBar\",\"id\":\"p1264\",\"attributes\":{\"x\":{\"type\":\"field\",\"field\":\"PdDistrict\"},\"width\":{\"type\":\"value\",\"value\":0.9},\"bottom\":{\"type\":\"expr\",\"expr\":{\"id\":\"p1198\"}},\"top\":{\"type\":\"expr\",\"expr\":{\"id\":\"p1199\"}},\"line_color\":{\"type\":\"value\",\"value\":\"#B276B2\"},\"line_alpha\":{\"type\":\"value\",\"value\":0.2},\"fill_color\":{\"type\":\"value\",\"value\":\"#B276B2\"},\"fill_alpha\":{\"type\":\"value\",\"value\":0.2},\"hatch_color\":{\"type\":\"value\",\"value\":\"#B276B2\"},\"hatch_alpha\":{\"type\":\"value\",\"value\":0.2}}}}},{\"type\":\"object\",\"name\":\"GlyphRenderer\",\"id\":\"p1275\",\"attributes\":{\"name\":\"LARCENY/THEFT\",\"data_source\":{\"id\":\"p1150\"},\"view\":{\"type\":\"object\",\"name\":\"CDSView\",\"id\":\"p1276\",\"attributes\":{\"filter\":{\"type\":\"object\",\"name\":\"AllIndices\",\"id\":\"p1277\"}}},\"glyph\":{\"type\":\"object\",\"name\":\"VBar\",\"id\":\"p1272\",\"attributes\":{\"x\":{\"type\":\"field\",\"field\":\"PdDistrict\"},\"width\":{\"type\":\"value\",\"value\":0.9},\"bottom\":{\"type\":\"expr\",\"expr\":{\"type\":\"object\",\"name\":\"Stack\",\"id\":\"p1200\",\"attributes\":{\"fields\":[\"WEAPON LAWS\",\"PROSTITUTION\",\"ROBBERY\",\"BURGLARY\",\"ASSAULT\",\"DRUG/NARCOTIC\"]}}},\"top\":{\"type\":\"expr\",\"expr\":{\"type\":\"object\",\"name\":\"Stack\",\"id\":\"p1201\",\"attributes\":{\"fields\":[\"WEAPON LAWS\",\"PROSTITUTION\",\"ROBBERY\",\"BURGLARY\",\"ASSAULT\",\"DRUG/NARCOTIC\",\"LARCENY/THEFT\"]}}},\"line_color\":{\"type\":\"value\",\"value\":\"#DECF3F\"},\"fill_color\":{\"type\":\"value\",\"value\":\"#DECF3F\"},\"hatch_color\":{\"type\":\"value\",\"value\":\"#DECF3F\"}}},\"nonselection_glyph\":{\"type\":\"object\",\"name\":\"VBar\",\"id\":\"p1273\",\"attributes\":{\"x\":{\"type\":\"field\",\"field\":\"PdDistrict\"},\"width\":{\"type\":\"value\",\"value\":0.9},\"bottom\":{\"type\":\"expr\",\"expr\":{\"id\":\"p1200\"}},\"top\":{\"type\":\"expr\",\"expr\":{\"id\":\"p1201\"}},\"line_color\":{\"type\":\"value\",\"value\":\"#DECF3F\"},\"line_alpha\":{\"type\":\"value\",\"value\":0.1},\"fill_color\":{\"type\":\"value\",\"value\":\"#DECF3F\"},\"fill_alpha\":{\"type\":\"value\",\"value\":0.1},\"hatch_color\":{\"type\":\"value\",\"value\":\"#DECF3F\"},\"hatch_alpha\":{\"type\":\"value\",\"value\":0.1}}},\"muted_glyph\":{\"type\":\"object\",\"name\":\"VBar\",\"id\":\"p1274\",\"attributes\":{\"x\":{\"type\":\"field\",\"field\":\"PdDistrict\"},\"width\":{\"type\":\"value\",\"value\":0.9},\"bottom\":{\"type\":\"expr\",\"expr\":{\"id\":\"p1200\"}},\"top\":{\"type\":\"expr\",\"expr\":{\"id\":\"p1201\"}},\"line_color\":{\"type\":\"value\",\"value\":\"#DECF3F\"},\"line_alpha\":{\"type\":\"value\",\"value\":0.2},\"fill_color\":{\"type\":\"value\",\"value\":\"#DECF3F\"},\"fill_alpha\":{\"type\":\"value\",\"value\":0.2},\"hatch_color\":{\"type\":\"value\",\"value\":\"#DECF3F\"},\"hatch_alpha\":{\"type\":\"value\",\"value\":0.2}}}}},{\"type\":\"object\",\"name\":\"GlyphRenderer\",\"id\":\"p1285\",\"attributes\":{\"name\":\"VANDALISM\",\"data_source\":{\"id\":\"p1150\"},\"view\":{\"type\":\"object\",\"name\":\"CDSView\",\"id\":\"p1286\",\"attributes\":{\"filter\":{\"type\":\"object\",\"name\":\"AllIndices\",\"id\":\"p1287\"}}},\"glyph\":{\"type\":\"object\",\"name\":\"VBar\",\"id\":\"p1282\",\"attributes\":{\"x\":{\"type\":\"field\",\"field\":\"PdDistrict\"},\"width\":{\"type\":\"value\",\"value\":0.9},\"bottom\":{\"type\":\"expr\",\"expr\":{\"type\":\"object\",\"name\":\"Stack\",\"id\":\"p1202\",\"attributes\":{\"fields\":[\"WEAPON LAWS\",\"PROSTITUTION\",\"ROBBERY\",\"BURGLARY\",\"ASSAULT\",\"DRUG/NARCOTIC\",\"LARCENY/THEFT\"]}}},\"top\":{\"type\":\"expr\",\"expr\":{\"type\":\"object\",\"name\":\"Stack\",\"id\":\"p1203\",\"attributes\":{\"fields\":[\"WEAPON LAWS\",\"PROSTITUTION\",\"ROBBERY\",\"BURGLARY\",\"ASSAULT\",\"DRUG/NARCOTIC\",\"LARCENY/THEFT\",\"VANDALISM\"]}}},\"line_color\":{\"type\":\"value\",\"value\":\"#F15854\"},\"fill_color\":{\"type\":\"value\",\"value\":\"#F15854\"},\"hatch_color\":{\"type\":\"value\",\"value\":\"#F15854\"}}},\"nonselection_glyph\":{\"type\":\"object\",\"name\":\"VBar\",\"id\":\"p1283\",\"attributes\":{\"x\":{\"type\":\"field\",\"field\":\"PdDistrict\"},\"width\":{\"type\":\"value\",\"value\":0.9},\"bottom\":{\"type\":\"expr\",\"expr\":{\"id\":\"p1202\"}},\"top\":{\"type\":\"expr\",\"expr\":{\"id\":\"p1203\"}},\"line_color\":{\"type\":\"value\",\"value\":\"#F15854\"},\"line_alpha\":{\"type\":\"value\",\"value\":0.1},\"fill_color\":{\"type\":\"value\",\"value\":\"#F15854\"},\"fill_alpha\":{\"type\":\"value\",\"value\":0.1},\"hatch_color\":{\"type\":\"value\",\"value\":\"#F15854\"},\"hatch_alpha\":{\"type\":\"value\",\"value\":0.1}}},\"muted_glyph\":{\"type\":\"object\",\"name\":\"VBar\",\"id\":\"p1284\",\"attributes\":{\"x\":{\"type\":\"field\",\"field\":\"PdDistrict\"},\"width\":{\"type\":\"value\",\"value\":0.9},\"bottom\":{\"type\":\"expr\",\"expr\":{\"id\":\"p1202\"}},\"top\":{\"type\":\"expr\",\"expr\":{\"id\":\"p1203\"}},\"line_color\":{\"type\":\"value\",\"value\":\"#F15854\"},\"line_alpha\":{\"type\":\"value\",\"value\":0.2},\"fill_color\":{\"type\":\"value\",\"value\":\"#F15854\"},\"fill_alpha\":{\"type\":\"value\",\"value\":0.2},\"hatch_color\":{\"type\":\"value\",\"value\":\"#F15854\"},\"hatch_alpha\":{\"type\":\"value\",\"value\":0.2}}}}},{\"type\":\"object\",\"name\":\"GlyphRenderer\",\"id\":\"p1295\",\"attributes\":{\"name\":\"VEHICLE THEFT\",\"data_source\":{\"id\":\"p1150\"},\"view\":{\"type\":\"object\",\"name\":\"CDSView\",\"id\":\"p1296\",\"attributes\":{\"filter\":{\"type\":\"object\",\"name\":\"AllIndices\",\"id\":\"p1297\"}}},\"glyph\":{\"type\":\"object\",\"name\":\"VBar\",\"id\":\"p1292\",\"attributes\":{\"x\":{\"type\":\"field\",\"field\":\"PdDistrict\"},\"width\":{\"type\":\"value\",\"value\":0.9},\"bottom\":{\"type\":\"expr\",\"expr\":{\"type\":\"object\",\"name\":\"Stack\",\"id\":\"p1204\",\"attributes\":{\"fields\":[\"WEAPON LAWS\",\"PROSTITUTION\",\"ROBBERY\",\"BURGLARY\",\"ASSAULT\",\"DRUG/NARCOTIC\",\"LARCENY/THEFT\",\"VANDALISM\"]}}},\"top\":{\"type\":\"expr\",\"expr\":{\"type\":\"object\",\"name\":\"Stack\",\"id\":\"p1205\",\"attributes\":{\"fields\":[\"WEAPON LAWS\",\"PROSTITUTION\",\"ROBBERY\",\"BURGLARY\",\"ASSAULT\",\"DRUG/NARCOTIC\",\"LARCENY/THEFT\",\"VANDALISM\",\"VEHICLE THEFT\"]}}},\"line_color\":{\"type\":\"value\",\"value\":\"#4D4D4D\"},\"fill_color\":{\"type\":\"value\",\"value\":\"#4D4D4D\"},\"hatch_color\":{\"type\":\"value\",\"value\":\"#4D4D4D\"}}},\"nonselection_glyph\":{\"type\":\"object\",\"name\":\"VBar\",\"id\":\"p1293\",\"attributes\":{\"x\":{\"type\":\"field\",\"field\":\"PdDistrict\"},\"width\":{\"type\":\"value\",\"value\":0.9},\"bottom\":{\"type\":\"expr\",\"expr\":{\"id\":\"p1204\"}},\"top\":{\"type\":\"expr\",\"expr\":{\"id\":\"p1205\"}},\"line_color\":{\"type\":\"value\",\"value\":\"#4D4D4D\"},\"line_alpha\":{\"type\":\"value\",\"value\":0.1},\"fill_color\":{\"type\":\"value\",\"value\":\"#4D4D4D\"},\"fill_alpha\":{\"type\":\"value\",\"value\":0.1},\"hatch_color\":{\"type\":\"value\",\"value\":\"#4D4D4D\"},\"hatch_alpha\":{\"type\":\"value\",\"value\":0.1}}},\"muted_glyph\":{\"type\":\"object\",\"name\":\"VBar\",\"id\":\"p1294\",\"attributes\":{\"x\":{\"type\":\"field\",\"field\":\"PdDistrict\"},\"width\":{\"type\":\"value\",\"value\":0.9},\"bottom\":{\"type\":\"expr\",\"expr\":{\"id\":\"p1204\"}},\"top\":{\"type\":\"expr\",\"expr\":{\"id\":\"p1205\"}},\"line_color\":{\"type\":\"value\",\"value\":\"#4D4D4D\"},\"line_alpha\":{\"type\":\"value\",\"value\":0.2},\"fill_color\":{\"type\":\"value\",\"value\":\"#4D4D4D\"},\"fill_alpha\":{\"type\":\"value\",\"value\":0.2},\"hatch_color\":{\"type\":\"value\",\"value\":\"#4D4D4D\"},\"hatch_alpha\":{\"type\":\"value\",\"value\":0.2}}}}},{\"type\":\"object\",\"name\":\"GlyphRenderer\",\"id\":\"p1305\",\"attributes\":{\"name\":\"STOLEN PROPERTY\",\"data_source\":{\"id\":\"p1150\"},\"view\":{\"type\":\"object\",\"name\":\"CDSView\",\"id\":\"p1306\",\"attributes\":{\"filter\":{\"type\":\"object\",\"name\":\"AllIndices\",\"id\":\"p1307\"}}},\"glyph\":{\"type\":\"object\",\"name\":\"VBar\",\"id\":\"p1302\",\"attributes\":{\"x\":{\"type\":\"field\",\"field\":\"PdDistrict\"},\"width\":{\"type\":\"value\",\"value\":0.9},\"bottom\":{\"type\":\"expr\",\"expr\":{\"type\":\"object\",\"name\":\"Stack\",\"id\":\"p1206\",\"attributes\":{\"fields\":[\"WEAPON LAWS\",\"PROSTITUTION\",\"ROBBERY\",\"BURGLARY\",\"ASSAULT\",\"DRUG/NARCOTIC\",\"LARCENY/THEFT\",\"VANDALISM\",\"VEHICLE THEFT\"]}}},\"top\":{\"type\":\"expr\",\"expr\":{\"type\":\"object\",\"name\":\"Stack\",\"id\":\"p1207\",\"attributes\":{\"fields\":[\"WEAPON LAWS\",\"PROSTITUTION\",\"ROBBERY\",\"BURGLARY\",\"ASSAULT\",\"DRUG/NARCOTIC\",\"LARCENY/THEFT\",\"VANDALISM\",\"VEHICLE THEFT\",\"STOLEN PROPERTY\"]}}},\"line_color\":{\"type\":\"value\",\"value\":\"#9467bd\"},\"fill_color\":{\"type\":\"value\",\"value\":\"#9467bd\"},\"hatch_color\":{\"type\":\"value\",\"value\":\"#9467bd\"}}},\"nonselection_glyph\":{\"type\":\"object\",\"name\":\"VBar\",\"id\":\"p1303\",\"attributes\":{\"x\":{\"type\":\"field\",\"field\":\"PdDistrict\"},\"width\":{\"type\":\"value\",\"value\":0.9},\"bottom\":{\"type\":\"expr\",\"expr\":{\"id\":\"p1206\"}},\"top\":{\"type\":\"expr\",\"expr\":{\"id\":\"p1207\"}},\"line_color\":{\"type\":\"value\",\"value\":\"#9467bd\"},\"line_alpha\":{\"type\":\"value\",\"value\":0.1},\"fill_color\":{\"type\":\"value\",\"value\":\"#9467bd\"},\"fill_alpha\":{\"type\":\"value\",\"value\":0.1},\"hatch_color\":{\"type\":\"value\",\"value\":\"#9467bd\"},\"hatch_alpha\":{\"type\":\"value\",\"value\":0.1}}},\"muted_glyph\":{\"type\":\"object\",\"name\":\"VBar\",\"id\":\"p1304\",\"attributes\":{\"x\":{\"type\":\"field\",\"field\":\"PdDistrict\"},\"width\":{\"type\":\"value\",\"value\":0.9},\"bottom\":{\"type\":\"expr\",\"expr\":{\"id\":\"p1206\"}},\"top\":{\"type\":\"expr\",\"expr\":{\"id\":\"p1207\"}},\"line_color\":{\"type\":\"value\",\"value\":\"#9467bd\"},\"line_alpha\":{\"type\":\"value\",\"value\":0.2},\"fill_color\":{\"type\":\"value\",\"value\":\"#9467bd\"},\"fill_alpha\":{\"type\":\"value\",\"value\":0.2},\"hatch_color\":{\"type\":\"value\",\"value\":\"#9467bd\"},\"hatch_alpha\":{\"type\":\"value\",\"value\":0.2}}}}}],\"toolbar\":{\"type\":\"object\",\"name\":\"Toolbar\",\"id\":\"p1162\",\"attributes\":{\"tools\":[{\"type\":\"object\",\"name\":\"PanTool\",\"id\":\"p1176\"},{\"type\":\"object\",\"name\":\"BoxZoomTool\",\"id\":\"p1177\",\"attributes\":{\"overlay\":{\"type\":\"object\",\"name\":\"BoxAnnotation\",\"id\":\"p1178\",\"attributes\":{\"syncable\":false,\"line_color\":\"black\",\"line_alpha\":1.0,\"line_width\":2,\"line_dash\":[4,4],\"fill_color\":\"lightgrey\",\"fill_alpha\":0.5,\"level\":\"overlay\",\"visible\":false,\"left\":{\"type\":\"number\",\"value\":\"nan\"},\"right\":{\"type\":\"number\",\"value\":\"nan\"},\"top\":{\"type\":\"number\",\"value\":\"nan\"},\"bottom\":{\"type\":\"number\",\"value\":\"nan\"},\"left_units\":\"canvas\",\"right_units\":\"canvas\",\"top_units\":\"canvas\",\"bottom_units\":\"canvas\",\"handles\":{\"type\":\"object\",\"name\":\"BoxInteractionHandles\",\"id\":\"p1184\",\"attributes\":{\"all\":{\"type\":\"object\",\"name\":\"AreaVisuals\",\"id\":\"p1183\",\"attributes\":{\"fill_color\":\"white\",\"hover_fill_color\":\"lightgray\"}}}}}}}},{\"type\":\"object\",\"name\":\"ResetTool\",\"id\":\"p1185\"},{\"type\":\"object\",\"name\":\"SaveTool\",\"id\":\"p1186\"},{\"type\":\"object\",\"name\":\"HoverTool\",\"id\":\"p1187\",\"attributes\":{\"renderers\":\"auto\",\"tooltips\":[[\"District\",\"@PdDistrict\"],[\"Crime\",\"$name\"],[\"Fraction\",\"@$name{0.0%}\"]]}}]}},\"left\":[{\"type\":\"object\",\"name\":\"LinearAxis\",\"id\":\"p1171\",\"attributes\":{\"ticker\":{\"type\":\"object\",\"name\":\"BasicTicker\",\"id\":\"p1172\",\"attributes\":{\"mantissas\":[1,2,5]}},\"formatter\":{\"type\":\"object\",\"name\":\"BasicTickFormatter\",\"id\":\"p1173\"},\"axis_label\":\"Relative Fraction of Crimes\",\"major_label_policy\":{\"type\":\"object\",\"name\":\"AllLabels\",\"id\":\"p1174\"}}},{\"type\":\"object\",\"name\":\"Legend\",\"id\":\"p1217\",\"attributes\":{\"location\":\"center_left\",\"click_policy\":\"hide\",\"label_text_font_size\":\"8pt\",\"label_height\":15,\"label_width\":15,\"glyph_height\":15,\"glyph_width\":15,\"padding\":4,\"spacing\":4,\"items\":[{\"type\":\"object\",\"name\":\"LegendItem\",\"id\":\"p1218\",\"attributes\":{\"label\":{\"type\":\"value\",\"value\":\"WEAPON LAWS\"},\"renderers\":[{\"id\":\"p1214\"}]}},{\"type\":\"object\",\"name\":\"LegendItem\",\"id\":\"p1228\",\"attributes\":{\"label\":{\"type\":\"value\",\"value\":\"PROSTITUTION\"},\"renderers\":[{\"id\":\"p1225\"}]}},{\"type\":\"object\",\"name\":\"LegendItem\",\"id\":\"p1238\",\"attributes\":{\"label\":{\"type\":\"value\",\"value\":\"ROBBERY\"},\"renderers\":[{\"id\":\"p1235\"}]}},{\"type\":\"object\",\"name\":\"LegendItem\",\"id\":\"p1248\",\"attributes\":{\"label\":{\"type\":\"value\",\"value\":\"BURGLARY\"},\"renderers\":[{\"id\":\"p1245\"}]}},{\"type\":\"object\",\"name\":\"LegendItem\",\"id\":\"p1258\",\"attributes\":{\"label\":{\"type\":\"value\",\"value\":\"ASSAULT\"},\"renderers\":[{\"id\":\"p1255\"}]}},{\"type\":\"object\",\"name\":\"LegendItem\",\"id\":\"p1268\",\"attributes\":{\"label\":{\"type\":\"value\",\"value\":\"DRUG/NARCOTIC\"},\"renderers\":[{\"id\":\"p1265\"}]}},{\"type\":\"object\",\"name\":\"LegendItem\",\"id\":\"p1278\",\"attributes\":{\"label\":{\"type\":\"value\",\"value\":\"LARCENY/THEFT\"},\"renderers\":[{\"id\":\"p1275\"}]}},{\"type\":\"object\",\"name\":\"LegendItem\",\"id\":\"p1288\",\"attributes\":{\"label\":{\"type\":\"value\",\"value\":\"VANDALISM\"},\"renderers\":[{\"id\":\"p1285\"}]}},{\"type\":\"object\",\"name\":\"LegendItem\",\"id\":\"p1298\",\"attributes\":{\"label\":{\"type\":\"value\",\"value\":\"VEHICLE THEFT\"},\"renderers\":[{\"id\":\"p1295\"}]}},{\"type\":\"object\",\"name\":\"LegendItem\",\"id\":\"p1308\",\"attributes\":{\"label\":{\"type\":\"value\",\"value\":\"STOLEN PROPERTY\"},\"renderers\":[{\"id\":\"p1305\"}]}}]}}],\"below\":[{\"type\":\"object\",\"name\":\"CategoricalAxis\",\"id\":\"p1166\",\"attributes\":{\"ticker\":{\"type\":\"object\",\"name\":\"CategoricalTicker\",\"id\":\"p1167\"},\"formatter\":{\"type\":\"object\",\"name\":\"CategoricalTickFormatter\",\"id\":\"p1168\"},\"axis_label\":\"Police District\",\"major_label_orientation\":1.0,\"major_label_policy\":{\"type\":\"object\",\"name\":\"AllLabels\",\"id\":\"p1169\"}}}],\"center\":[{\"type\":\"object\",\"name\":\"Grid\",\"id\":\"p1170\",\"attributes\":{\"axis\":{\"id\":\"p1166\"}}},{\"type\":\"object\",\"name\":\"Grid\",\"id\":\"p1175\",\"attributes\":{\"dimension\":1,\"axis\":{\"id\":\"p1171\"}}},{\"id\":\"p1217\"}]}}]}};\n  const render_items = [{\"docid\":\"f8ef5e11-217e-4317-b554-31900678182b\",\"roots\":{\"p1153\":\"e8c472fe-94c2-4261-b32d-5ff9c642afdc\"},\"root_ids\":[\"p1153\"]}];\n  void root.Bokeh.embed.embed_items_notebook(docs_json, render_items);\n  }\n  if (root.Bokeh !== undefined) {\n    embed_document(root);\n  } else {\n    let attempts = 0;\n    const timer = setInterval(function(root) {\n      if (root.Bokeh !== undefined) {\n        clearInterval(timer);\n        embed_document(root);\n      } else {\n        attempts++;\n        if (attempts > 100) {\n          clearInterval(timer);\n          console.log(\"Bokeh: ERROR: Unable to run BokehJS code because BokehJS library is missing\");\n        }\n      }\n    }, 10, root)\n  }\n})(window);",
      "application/vnd.bokehjs_exec.v0+json": ""
     },
     "metadata": {
      "application/vnd.bokehjs_exec.v0+json": {
       "id": "p1153"
      }
     },
     "output_type": "display_data"
    }
   ],
   "source": [
    "colors = [\n",
    "    \"#5DA5DA\", \"#FAA43A\", \"#60BD68\", \"#F17CB0\", \"#B2912F\",\n",
    "    \"#B276B2\", \"#DECF3F\", \"#F15854\", \"#4D4D4D\", \"#9467bd\"\n",
    "]\n",
    "\n",
    "p.vbar_stack(\n",
    "    stackers=stackers,\n",
    "    x='PdDistrict',\n",
    "    width=0.9,\n",
    "    color=colors,\n",
    "    source=source,\n",
    "    legend_label=stackers,  # each stacker is one legend entry\n",
    "    name=stackers           # crucial so HoverTool can use '$name'\n",
    ")\n",
    "\n",
    "# Format legend\n",
    "p.legend.location = \"center_left\"\n",
    "p.legend.orientation = \"vertical\"\n",
    "p.legend.click_policy = \"hide\"  # let user hide stack segments\n",
    "p.add_layout(p.legend[0], 'left')\n",
    "p.legend.label_text_font_size = '8pt'\n",
    "p.legend.label_height = 15\n",
    "p.legend.label_width = 15\n",
    "p.legend.glyph_height = 15\n",
    "p.legend.glyph_width = 15\n",
    "p.legend.spacing = 4\n",
    "p.legend.padding = 4\n",
    "\n",
    "p.xaxis.axis_label = \"Police District\"\n",
    "p.yaxis.axis_label = \"Relative Fraction of Crimes\"\n",
    "p.xaxis.major_label_orientation = 1.0  # rotate labels if needed\n",
    "p.y_range.start = 0  # start y-axis at 0\n",
    "\n",
    "show(p)"
   ]
  },
  {
   "cell_type": "markdown",
   "metadata": {},
   "source": [
    "#### going further CUSTOM JS"
   ]
  },
  {
   "cell_type": "code",
   "execution_count": 21,
   "metadata": {},
   "outputs": [
    {
     "data": {
      "text/html": [
       "<div>\n",
       "<style scoped>\n",
       "    .dataframe tbody tr th:only-of-type {\n",
       "        vertical-align: middle;\n",
       "    }\n",
       "\n",
       "    .dataframe tbody tr th {\n",
       "        vertical-align: top;\n",
       "    }\n",
       "\n",
       "    .dataframe thead th {\n",
       "        text-align: right;\n",
       "    }\n",
       "</style>\n",
       "<table border=\"1\" class=\"dataframe\">\n",
       "  <thead>\n",
       "    <tr style=\"text-align: right;\">\n",
       "      <th>Category</th>\n",
       "      <th>ASSAULT</th>\n",
       "      <th>BURGLARY</th>\n",
       "      <th>DRUG/NARCOTIC</th>\n",
       "      <th>LARCENY/THEFT</th>\n",
       "      <th>PROSTITUTION</th>\n",
       "      <th>ROBBERY</th>\n",
       "      <th>STOLEN PROPERTY</th>\n",
       "      <th>VANDALISM</th>\n",
       "      <th>VEHICLE THEFT</th>\n",
       "      <th>WEAPON LAWS</th>\n",
       "      <th>TOTAL</th>\n",
       "    </tr>\n",
       "    <tr>\n",
       "      <th>PdDistrict</th>\n",
       "      <th></th>\n",
       "      <th></th>\n",
       "      <th></th>\n",
       "      <th></th>\n",
       "      <th></th>\n",
       "      <th></th>\n",
       "      <th></th>\n",
       "      <th></th>\n",
       "      <th></th>\n",
       "      <th></th>\n",
       "      <th></th>\n",
       "    </tr>\n",
       "  </thead>\n",
       "  <tbody>\n",
       "    <tr>\n",
       "      <th>BAYVIEW</th>\n",
       "      <td>12268</td>\n",
       "      <td>6361</td>\n",
       "      <td>2143</td>\n",
       "      <td>25214</td>\n",
       "      <td>28</td>\n",
       "      <td>3587</td>\n",
       "      <td>763</td>\n",
       "      <td>10398</td>\n",
       "      <td>12669</td>\n",
       "      <td>3387</td>\n",
       "      <td>76818</td>\n",
       "    </tr>\n",
       "    <tr>\n",
       "      <th>CENTRAL</th>\n",
       "      <td>11110</td>\n",
       "      <td>10194</td>\n",
       "      <td>2296</td>\n",
       "      <td>82491</td>\n",
       "      <td>499</td>\n",
       "      <td>4710</td>\n",
       "      <td>1353</td>\n",
       "      <td>14458</td>\n",
       "      <td>6064</td>\n",
       "      <td>1562</td>\n",
       "      <td>134737</td>\n",
       "    </tr>\n",
       "    <tr>\n",
       "      <th>INGLESIDE</th>\n",
       "      <td>9338</td>\n",
       "      <td>7113</td>\n",
       "      <td>1492</td>\n",
       "      <td>24345</td>\n",
       "      <td>41</td>\n",
       "      <td>3615</td>\n",
       "      <td>544</td>\n",
       "      <td>8905</td>\n",
       "      <td>11860</td>\n",
       "      <td>1966</td>\n",
       "      <td>69219</td>\n",
       "    </tr>\n",
       "    <tr>\n",
       "      <th>MISSION</th>\n",
       "      <td>17444</td>\n",
       "      <td>9337</td>\n",
       "      <td>5521</td>\n",
       "      <td>42143</td>\n",
       "      <td>1158</td>\n",
       "      <td>5823</td>\n",
       "      <td>1096</td>\n",
       "      <td>12305</td>\n",
       "      <td>10780</td>\n",
       "      <td>3259</td>\n",
       "      <td>108866</td>\n",
       "    </tr>\n",
       "    <tr>\n",
       "      <th>NORTHERN</th>\n",
       "      <td>11955</td>\n",
       "      <td>12274</td>\n",
       "      <td>4027</td>\n",
       "      <td>79334</td>\n",
       "      <td>236</td>\n",
       "      <td>4099</td>\n",
       "      <td>1274</td>\n",
       "      <td>13720</td>\n",
       "      <td>8822</td>\n",
       "      <td>1557</td>\n",
       "      <td>137298</td>\n",
       "    </tr>\n",
       "    <tr>\n",
       "      <th>PARK</th>\n",
       "      <td>3744</td>\n",
       "      <td>5149</td>\n",
       "      <td>1539</td>\n",
       "      <td>21901</td>\n",
       "      <td>10</td>\n",
       "      <td>924</td>\n",
       "      <td>318</td>\n",
       "      <td>4913</td>\n",
       "      <td>4681</td>\n",
       "      <td>465</td>\n",
       "      <td>43644</td>\n",
       "    </tr>\n",
       "    <tr>\n",
       "      <th>RICHMOND</th>\n",
       "      <td>3628</td>\n",
       "      <td>5403</td>\n",
       "      <td>676</td>\n",
       "      <td>32532</td>\n",
       "      <td>26</td>\n",
       "      <td>1254</td>\n",
       "      <td>360</td>\n",
       "      <td>5745</td>\n",
       "      <td>4983</td>\n",
       "      <td>452</td>\n",
       "      <td>55059</td>\n",
       "    </tr>\n",
       "    <tr>\n",
       "      <th>SOUTHERN</th>\n",
       "      <td>16410</td>\n",
       "      <td>10534</td>\n",
       "      <td>7099</td>\n",
       "      <td>68700</td>\n",
       "      <td>499</td>\n",
       "      <td>4859</td>\n",
       "      <td>1372</td>\n",
       "      <td>14149</td>\n",
       "      <td>7918</td>\n",
       "      <td>2447</td>\n",
       "      <td>133987</td>\n",
       "    </tr>\n",
       "    <tr>\n",
       "      <th>TARAVAL</th>\n",
       "      <td>5983</td>\n",
       "      <td>7004</td>\n",
       "      <td>809</td>\n",
       "      <td>30118</td>\n",
       "      <td>319</td>\n",
       "      <td>1801</td>\n",
       "      <td>406</td>\n",
       "      <td>7626</td>\n",
       "      <td>7616</td>\n",
       "      <td>874</td>\n",
       "      <td>62556</td>\n",
       "    </tr>\n",
       "    <tr>\n",
       "      <th>TENDERLOIN</th>\n",
       "      <td>13954</td>\n",
       "      <td>3002</td>\n",
       "      <td>16867</td>\n",
       "      <td>20810</td>\n",
       "      <td>137</td>\n",
       "      <td>4340</td>\n",
       "      <td>744</td>\n",
       "      <td>5236</td>\n",
       "      <td>2855</td>\n",
       "      <td>2397</td>\n",
       "      <td>70342</td>\n",
       "    </tr>\n",
       "  </tbody>\n",
       "</table>\n",
       "</div>"
      ],
      "text/plain": [
       "Category    ASSAULT  BURGLARY  DRUG/NARCOTIC  LARCENY/THEFT  PROSTITUTION  \\\n",
       "PdDistrict                                                                  \n",
       "BAYVIEW       12268      6361           2143          25214            28   \n",
       "CENTRAL       11110     10194           2296          82491           499   \n",
       "INGLESIDE      9338      7113           1492          24345            41   \n",
       "MISSION       17444      9337           5521          42143          1158   \n",
       "NORTHERN      11955     12274           4027          79334           236   \n",
       "PARK           3744      5149           1539          21901            10   \n",
       "RICHMOND       3628      5403            676          32532            26   \n",
       "SOUTHERN      16410     10534           7099          68700           499   \n",
       "TARAVAL        5983      7004            809          30118           319   \n",
       "TENDERLOIN    13954      3002          16867          20810           137   \n",
       "\n",
       "Category    ROBBERY  STOLEN PROPERTY  VANDALISM  VEHICLE THEFT  WEAPON LAWS  \\\n",
       "PdDistrict                                                                    \n",
       "BAYVIEW        3587              763      10398          12669         3387   \n",
       "CENTRAL        4710             1353      14458           6064         1562   \n",
       "INGLESIDE      3615              544       8905          11860         1966   \n",
       "MISSION        5823             1096      12305          10780         3259   \n",
       "NORTHERN       4099             1274      13720           8822         1557   \n",
       "PARK            924              318       4913           4681          465   \n",
       "RICHMOND       1254              360       5745           4983          452   \n",
       "SOUTHERN       4859             1372      14149           7918         2447   \n",
       "TARAVAL        1801              406       7626           7616          874   \n",
       "TENDERLOIN     4340              744       5236           2855         2397   \n",
       "\n",
       "Category     TOTAL  \n",
       "PdDistrict          \n",
       "BAYVIEW      76818  \n",
       "CENTRAL     134737  \n",
       "INGLESIDE    69219  \n",
       "MISSION     108866  \n",
       "NORTHERN    137298  \n",
       "PARK         43644  \n",
       "RICHMOND     55059  \n",
       "SOUTHERN    133987  \n",
       "TARAVAL      62556  \n",
       "TENDERLOIN   70342  "
      ]
     },
     "execution_count": 21,
     "metadata": {},
     "output_type": "execute_result"
    }
   ],
   "source": [
    "grouped = df.groupby(['PdDistrict', 'Category']).size().reset_index(name='count')\n",
    "\n",
    "# Pivot so each row is a district, each column is one crime type\n",
    "pivoted = grouped.pivot(index='PdDistrict', columns='Category', values='count').fillna(0)\n",
    "pivoted['TOTAL'] = pivoted.sum(axis=1)\n",
    "source_master = ColumnDataSource(pivoted)\n",
    "pivoted"
   ]
  },
  {
   "cell_type": "code",
   "execution_count": 42,
   "metadata": {},
   "outputs": [
    {
     "ename": "ValueError",
     "evalue": "cannot insert level_0, already exists",
     "output_type": "error",
     "traceback": [
      "\u001b[1;31m---------------------------------------------------------------------------\u001b[0m",
      "\u001b[1;31mValueError\u001b[0m                                Traceback (most recent call last)",
      "\u001b[1;32m~\\AppData\\Local\\Temp\\ipykernel_7532\\3751934521.py\u001b[0m in \u001b[0;36m?\u001b[1;34m()\u001b[0m\n\u001b[0;32m      1\u001b[0m \u001b[1;31m# Reset the index to make 'PdDistrict' a column\u001b[0m\u001b[1;33m\u001b[0m\u001b[1;33m\u001b[0m\u001b[0m\n\u001b[1;32m----> 2\u001b[1;33m \u001b[0mpivoted\u001b[0m\u001b[1;33m.\u001b[0m\u001b[0mreset_index\u001b[0m\u001b[1;33m(\u001b[0m\u001b[0minplace\u001b[0m\u001b[1;33m=\u001b[0m\u001b[1;32mTrue\u001b[0m\u001b[1;33m)\u001b[0m\u001b[1;33m\u001b[0m\u001b[1;33m\u001b[0m\u001b[0m\n\u001b[0m\u001b[0;32m      3\u001b[0m \u001b[1;33m\u001b[0m\u001b[0m\n\u001b[0;32m      4\u001b[0m \u001b[1;31m# This \"plot source\" is what the glyph actually draws from\u001b[0m\u001b[1;33m\u001b[0m\u001b[1;33m\u001b[0m\u001b[0m\n\u001b[0;32m      5\u001b[0m df_plot = pd.DataFrame({\n",
      "\u001b[1;32mc:\\Users\\Leuro\\anaconda3\\envs\\ML\\Lib\\site-packages\\pandas\\core\\frame.py\u001b[0m in \u001b[0;36m?\u001b[1;34m(self, level, drop, inplace, col_level, col_fill, allow_duplicates, names)\u001b[0m\n\u001b[0;32m   6468\u001b[0m                     level_values = algorithms.take(\n\u001b[0;32m   6469\u001b[0m                         \u001b[0mlevel_values\u001b[0m\u001b[1;33m,\u001b[0m \u001b[0mlab\u001b[0m\u001b[1;33m,\u001b[0m \u001b[0mallow_fill\u001b[0m\u001b[1;33m=\u001b[0m\u001b[1;32mTrue\u001b[0m\u001b[1;33m,\u001b[0m \u001b[0mfill_value\u001b[0m\u001b[1;33m=\u001b[0m\u001b[0mlev\u001b[0m\u001b[1;33m.\u001b[0m\u001b[0m_na_value\u001b[0m\u001b[1;33m\u001b[0m\u001b[1;33m\u001b[0m\u001b[0m\n\u001b[0;32m   6470\u001b[0m                     \u001b[1;33m)\u001b[0m\u001b[1;33m\u001b[0m\u001b[1;33m\u001b[0m\u001b[0m\n\u001b[0;32m   6471\u001b[0m \u001b[1;33m\u001b[0m\u001b[0m\n\u001b[1;32m-> 6472\u001b[1;33m                 new_obj.insert(\n\u001b[0m\u001b[0;32m   6473\u001b[0m                     \u001b[1;36m0\u001b[0m\u001b[1;33m,\u001b[0m\u001b[1;33m\u001b[0m\u001b[1;33m\u001b[0m\u001b[0m\n\u001b[0;32m   6474\u001b[0m                     \u001b[0mname\u001b[0m\u001b[1;33m,\u001b[0m\u001b[1;33m\u001b[0m\u001b[1;33m\u001b[0m\u001b[0m\n\u001b[0;32m   6475\u001b[0m                     \u001b[0mlevel_values\u001b[0m\u001b[1;33m,\u001b[0m\u001b[1;33m\u001b[0m\u001b[1;33m\u001b[0m\u001b[0m\n",
      "\u001b[1;32mc:\\Users\\Leuro\\anaconda3\\envs\\ML\\Lib\\site-packages\\pandas\\core\\frame.py\u001b[0m in \u001b[0;36m?\u001b[1;34m(self, loc, column, value, allow_duplicates)\u001b[0m\n\u001b[0;32m   5154\u001b[0m                 \u001b[1;34m\"'self.flags.allows_duplicate_labels' is False.\"\u001b[0m\u001b[1;33m\u001b[0m\u001b[1;33m\u001b[0m\u001b[0m\n\u001b[0;32m   5155\u001b[0m             \u001b[1;33m)\u001b[0m\u001b[1;33m\u001b[0m\u001b[1;33m\u001b[0m\u001b[0m\n\u001b[0;32m   5156\u001b[0m         \u001b[1;32mif\u001b[0m \u001b[1;32mnot\u001b[0m \u001b[0mallow_duplicates\u001b[0m \u001b[1;32mand\u001b[0m \u001b[0mcolumn\u001b[0m \u001b[1;32min\u001b[0m \u001b[0mself\u001b[0m\u001b[1;33m.\u001b[0m\u001b[0mcolumns\u001b[0m\u001b[1;33m:\u001b[0m\u001b[1;33m\u001b[0m\u001b[1;33m\u001b[0m\u001b[0m\n\u001b[0;32m   5157\u001b[0m             \u001b[1;31m# Should this be a different kind of error??\u001b[0m\u001b[1;33m\u001b[0m\u001b[1;33m\u001b[0m\u001b[0m\n\u001b[1;32m-> 5158\u001b[1;33m             \u001b[1;32mraise\u001b[0m \u001b[0mValueError\u001b[0m\u001b[1;33m(\u001b[0m\u001b[1;33mf\"\u001b[0m\u001b[1;33mcannot insert \u001b[0m\u001b[1;33m{\u001b[0m\u001b[0mcolumn\u001b[0m\u001b[1;33m}\u001b[0m\u001b[1;33m, already exists\u001b[0m\u001b[1;33m\"\u001b[0m\u001b[1;33m)\u001b[0m\u001b[1;33m\u001b[0m\u001b[1;33m\u001b[0m\u001b[0m\n\u001b[0m\u001b[0;32m   5159\u001b[0m         \u001b[1;32mif\u001b[0m \u001b[1;32mnot\u001b[0m \u001b[0mis_integer\u001b[0m\u001b[1;33m(\u001b[0m\u001b[0mloc\u001b[0m\u001b[1;33m)\u001b[0m\u001b[1;33m:\u001b[0m\u001b[1;33m\u001b[0m\u001b[1;33m\u001b[0m\u001b[0m\n\u001b[0;32m   5160\u001b[0m             \u001b[1;32mraise\u001b[0m \u001b[0mTypeError\u001b[0m\u001b[1;33m(\u001b[0m\u001b[1;34m\"loc must be int\"\u001b[0m\u001b[1;33m)\u001b[0m\u001b[1;33m\u001b[0m\u001b[1;33m\u001b[0m\u001b[0m\n\u001b[0;32m   5161\u001b[0m         \u001b[1;31m# convert non stdlib ints to satisfy typing checks\u001b[0m\u001b[1;33m\u001b[0m\u001b[1;33m\u001b[0m\u001b[0m\n",
      "\u001b[1;31mValueError\u001b[0m: cannot insert level_0, already exists"
     ]
    }
   ],
   "source": [
    "# Reset the index to make 'PdDistrict' a column\n",
    "pivoted.reset_index(inplace=True)\n",
    "\n",
    "# This \"plot source\" is what the glyph actually draws from\n",
    "df_plot = pd.DataFrame({\n",
    "    'PdDistrict': pivoted['PdDistrict'],\n",
    "    'x': pivoted['ASSAULT'],         # default X\n",
    "    'y': pivoted['BURGLARY'],        # default Y\n",
    "    'size': pivoted['TOTAL']/10000 # scale factor for circle size\n",
    "})\n",
    "\n",
    "source_plot = ColumnDataSource(df_plot)"
   ]
  },
  {
   "cell_type": "code",
   "execution_count": 43,
   "metadata": {},
   "outputs": [
    {
     "name": "stderr",
     "output_type": "stream",
     "text": [
      "BokehDeprecationWarning: 'circle() method with size value' was deprecated in Bokeh 3.4.0 and will be removed, use 'scatter(size=...) instead' instead.\n"
     ]
    }
   ],
   "source": [
    "p = figure(\n",
    "    width=600, \n",
    "    height=400,\n",
    "    title=\"SF District Crimes: Dynamic Axis & Circle Size\",\n",
    "    tools=\"pan,box_zoom,reset,save\",\n",
    ")\n",
    "\n",
    "# Draw circles from the \"plot source\"\n",
    "# 'size' is in pixel units on screen.\n",
    "r = p.circle(\n",
    "    x='x', y='y',\n",
    "    source=source_plot,\n",
    "    size='size',        # from source_plot['size']\n",
    "    fill_alpha=0.6,\n",
    "    color=\"dodgerblue\",\n",
    "    line_color=\"black\"\n",
    ")\n",
    "\n",
    "# Initial axis labels\n",
    "p.xaxis.axis_label = \"ASSAULT\"\n",
    "p.yaxis.axis_label = \"BURGLARY\""
   ]
  },
  {
   "cell_type": "code",
   "execution_count": 44,
   "metadata": {},
   "outputs": [],
   "source": [
    "crime_list = [\n",
    "    'WEAPON LAWS', 'PROSTITUTION', 'ROBBERY', 'BURGLARY',\n",
    "    'ASSAULT', 'DRUG/NARCOTIC', 'LARCENY/THEFT',\n",
    "    'VANDALISM', 'VEHICLE THEFT', 'STOLEN PROPERTY'\n",
    "]   # Expand for all your focus crimes\n",
    "\n",
    "dropdown_x = Select(title=\"X Crime\", value=\"ASSAULT\", options=crime_list)\n",
    "dropdown_y = Select(title=\"Y Crime\", value=\"BURGLARY\", options=crime_list)"
   ]
  },
  {
   "cell_type": "code",
   "execution_count": 45,
   "metadata": {},
   "outputs": [],
   "source": [
    "callback_code = \"\"\"\n",
    "// Retrieve master (all crimes) and the smaller plotting data\n",
    "const masterData = source_master.data;\n",
    "const plotData   = source_plot.data;\n",
    "\n",
    "// The newly selected crimes\n",
    "var xCrime = dropdown_x.value;\n",
    "var yCrime = dropdown_y.value;\n",
    "\n",
    "// Update x, y columns in plotData\n",
    "for (let i = 0; i < masterData['PdDistrict'].length; i++) {\n",
    "    plotData['x'][i] = masterData[xCrime][i];\n",
    "    plotData['y'][i] = masterData[yCrime][i];\n",
    "}\n",
    "\n",
    "// Optionally recalculate the circle size (e.g. from 'TOTAL').\n",
    "for (let i = 0; i < masterData['PdDistrict'].length; i++) {\n",
    "    // Example: scale circle size by TOTAL, but you could do something more elaborate\n",
    "    // e.g., an average of xCrime and yCrime, etc.\n",
    "    plotData['size'][i] = masterData['TOTAL'][i] / 100.0;\n",
    "}\n",
    "\n",
    "// We changed the data, so let Bokeh know\n",
    "source_plot.change.emit();\n",
    "\n",
    "// -------------------------------\n",
    "// Axis Label Updates\n",
    "// We have the figure reference as 'figRef' in our args\n",
    "// so we can set the axis labels dynamically\n",
    "// Bokeh stores them in figRef.xaxis[0], figRef.yaxis[0].\n",
    "figRef.xaxis[0].axis_label = xCrime;\n",
    "figRef.yaxis[0].axis_label = yCrime;\n",
    "\"\"\"\n",
    "\n",
    "callback = CustomJS(\n",
    "    args=dict(\n",
    "        source_master=source_master,\n",
    "        source_plot=source_plot,\n",
    "        dropdown_x=dropdown_x,\n",
    "        dropdown_y=dropdown_y,\n",
    "        figRef=p            \n",
    "    ),\n",
    "    code=callback_code\n",
    ")\n",
    "\n",
    "\n",
    "dropdown_x.js_on_change('value', callback)\n",
    "dropdown_y.js_on_change('value', callback)\n"
   ]
  },
  {
   "cell_type": "code",
   "execution_count": 46,
   "metadata": {},
   "outputs": [
    {
     "data": {
      "text/html": [
       "\n",
       "  <div id=\"dd0ddd24-1b54-4c36-8ed2-3e92a2c4ba89\" data-root-id=\"p1745\" style=\"display: contents;\"></div>\n"
      ]
     },
     "metadata": {},
     "output_type": "display_data"
    },
    {
     "data": {
      "application/javascript": "(function(root) {\n  function embed_document(root) {\n  const docs_json = {\"75c09b84-7902-4f78-b97f-288acba55285\":{\"version\":\"3.6.3\",\"title\":\"Bokeh Application\",\"roots\":[{\"type\":\"object\",\"name\":\"Column\",\"id\":\"p1745\",\"attributes\":{\"children\":[{\"type\":\"object\",\"name\":\"Row\",\"id\":\"p1744\",\"attributes\":{\"children\":[{\"type\":\"object\",\"name\":\"Select\",\"id\":\"p1741\",\"attributes\":{\"js_property_callbacks\":{\"type\":\"map\",\"entries\":[[\"change:value\",[{\"type\":\"object\",\"name\":\"CustomJS\",\"id\":\"p1743\",\"attributes\":{\"args\":{\"type\":\"map\",\"entries\":[[\"source_master\",{\"type\":\"object\",\"name\":\"ColumnDataSource\",\"id\":\"p1395\",\"attributes\":{\"selected\":{\"type\":\"object\",\"name\":\"Selection\",\"id\":\"p1396\",\"attributes\":{\"indices\":[],\"line_indices\":[]}},\"selection_policy\":{\"type\":\"object\",\"name\":\"UnionRenderers\",\"id\":\"p1397\"},\"data\":{\"type\":\"map\",\"entries\":[[\"PdDistrict\",{\"type\":\"ndarray\",\"array\":[\"BAYVIEW\",\"CENTRAL\",\"INGLESIDE\",\"MISSION\",\"NORTHERN\",\"PARK\",\"RICHMOND\",\"SOUTHERN\",\"TARAVAL\",\"TENDERLOIN\"],\"shape\":[10],\"dtype\":\"object\",\"order\":\"little\"}],[\"ASSAULT\",{\"type\":\"ndarray\",\"array\":{\"type\":\"bytes\",\"data\":\"7C8AAGYrAAB6JAAAJEQAALMuAACgDgAALA4AABpAAABfFwAAgjYAAA==\"},\"shape\":[10],\"dtype\":\"int32\",\"order\":\"little\"}],[\"BURGLARY\",{\"type\":\"ndarray\",\"array\":{\"type\":\"bytes\",\"data\":\"2RgAANInAADJGwAAeSQAAPIvAAAdFAAAGxUAACYpAABcGwAAugsAAA==\"},\"shape\":[10],\"dtype\":\"int32\",\"order\":\"little\"}],[\"DRUG/NARCOTIC\",{\"type\":\"ndarray\",\"array\":{\"type\":\"bytes\",\"data\":\"XwgAAPgIAADUBQAAkRUAALsPAAADBgAApAIAALsbAAApAwAA40EAAA==\"},\"shape\":[10],\"dtype\":\"int32\",\"order\":\"little\"}],[\"LARCENY/THEFT\",{\"type\":\"ndarray\",\"array\":{\"type\":\"bytes\",\"data\":\"fmIAADtCAQAZXwAAn6QAAOY1AQCNVQAAFH8AAFwMAQCmdQAASlEAAA==\"},\"shape\":[10],\"dtype\":\"int32\",\"order\":\"little\"}],[\"PROSTITUTION\",{\"type\":\"ndarray\",\"array\":{\"type\":\"bytes\",\"data\":\"HAAAAPMBAAApAAAAhgQAAOwAAAAKAAAAGgAAAPMBAAA/AQAAiQAAAA==\"},\"shape\":[10],\"dtype\":\"int32\",\"order\":\"little\"}],[\"ROBBERY\",{\"type\":\"ndarray\",\"array\":{\"type\":\"bytes\",\"data\":\"Aw4AAGYSAAAfDgAAvxYAAAMQAACcAwAA5gQAAPsSAAAJBwAA9BAAAA==\"},\"shape\":[10],\"dtype\":\"int32\",\"order\":\"little\"}],[\"STOLEN PROPERTY\",{\"type\":\"ndarray\",\"array\":{\"type\":\"bytes\",\"data\":\"+wIAAEkFAAAgAgAASAQAAPoEAAA+AQAAaAEAAFwFAACWAQAA6AIAAA==\"},\"shape\":[10],\"dtype\":\"int32\",\"order\":\"little\"}],[\"VANDALISM\",{\"type\":\"ndarray\",\"array\":{\"type\":\"bytes\",\"data\":\"nigAAHo4AADJIgAAETAAAJg1AAAxEwAAcRYAAEU3AADKHQAAdBQAAA==\"},\"shape\":[10],\"dtype\":\"int32\",\"order\":\"little\"}],[\"VEHICLE THEFT\",{\"type\":\"ndarray\",\"array\":{\"type\":\"bytes\",\"data\":\"fTEAALAXAABULgAAHCoAAHYiAABJEgAAdxMAAO4eAADAHQAAJwsAAA==\"},\"shape\":[10],\"dtype\":\"int32\",\"order\":\"little\"}],[\"WEAPON LAWS\",{\"type\":\"ndarray\",\"array\":{\"type\":\"bytes\",\"data\":\"Ow0AABoGAACuBwAAuwwAABUGAADRAQAAxAEAAI8JAABqAwAAXQkAAA==\"},\"shape\":[10],\"dtype\":\"int32\",\"order\":\"little\"}],[\"TOTAL\",{\"type\":\"ndarray\",\"array\":{\"type\":\"bytes\",\"data\":\"EiwBAFEOAgBjDgEAQqkBAFIYAgB8qgAAE9cAAGMLAgBc9AAAxhIBAA==\"},\"shape\":[10],\"dtype\":\"int32\",\"order\":\"little\"}]]}}}],[\"source_plot\",{\"type\":\"object\",\"name\":\"ColumnDataSource\",\"id\":\"p1634\",\"attributes\":{\"selected\":{\"type\":\"object\",\"name\":\"Selection\",\"id\":\"p1635\",\"attributes\":{\"indices\":[],\"line_indices\":[]}},\"selection_policy\":{\"type\":\"object\",\"name\":\"UnionRenderers\",\"id\":\"p1636\"},\"data\":{\"type\":\"map\",\"entries\":[[\"index\",{\"type\":\"ndarray\",\"array\":{\"type\":\"bytes\",\"data\":\"AAAAAAEAAAACAAAAAwAAAAQAAAAFAAAABgAAAAcAAAAIAAAACQAAAA==\"},\"shape\":[10],\"dtype\":\"int32\",\"order\":\"little\"}],[\"PdDistrict\",{\"type\":\"ndarray\",\"array\":[\"BAYVIEW\",\"CENTRAL\",\"INGLESIDE\",\"MISSION\",\"NORTHERN\",\"PARK\",\"RICHMOND\",\"SOUTHERN\",\"TARAVAL\",\"TENDERLOIN\"],\"shape\":[10],\"dtype\":\"object\",\"order\":\"little\"}],[\"x\",{\"type\":\"ndarray\",\"array\":{\"type\":\"bytes\",\"data\":\"7C8AAGYrAAB6JAAAJEQAALMuAACgDgAALA4AABpAAABfFwAAgjYAAA==\"},\"shape\":[10],\"dtype\":\"int32\",\"order\":\"little\"}],[\"y\",{\"type\":\"ndarray\",\"array\":{\"type\":\"bytes\",\"data\":\"2RgAANInAADJGwAAeSQAAPIvAAAdFAAAGxUAACYpAABcGwAAugsAAA==\"},\"shape\":[10],\"dtype\":\"int32\",\"order\":\"little\"}],[\"size\",{\"type\":\"ndarray\",\"array\":{\"type\":\"bytes\",\"data\":\"MQisHFo0U0DdJAaBlddgQLx0kxgETlFAgZVDi2w3W0Coxks3iSlhQN9PjZdu0kVAZDvfT42HS0DdJAaBlb9gQLpJDAIrR09A2c73U+OVUUA=\"},\"shape\":[10],\"dtype\":\"float64\",\"order\":\"little\"}]]}}}],[\"dropdown_x\",{\"id\":\"p1741\"}],[\"dropdown_y\",{\"type\":\"object\",\"name\":\"Select\",\"id\":\"p1742\",\"attributes\":{\"js_property_callbacks\":{\"type\":\"map\",\"entries\":[[\"change:value\",[{\"id\":\"p1743\"}]]]},\"title\":\"Y Crime\",\"options\":[\"WEAPON LAWS\",\"PROSTITUTION\",\"ROBBERY\",\"BURGLARY\",\"ASSAULT\",\"DRUG/NARCOTIC\",\"LARCENY/THEFT\",\"VANDALISM\",\"VEHICLE THEFT\",\"STOLEN PROPERTY\"],\"value\":\"BURGLARY\"}}],[\"figRef\",{\"type\":\"object\",\"name\":\"Figure\",\"id\":\"p1699\",\"attributes\":{\"height\":400,\"x_range\":{\"type\":\"object\",\"name\":\"DataRange1d\",\"id\":\"p1700\"},\"y_range\":{\"type\":\"object\",\"name\":\"DataRange1d\",\"id\":\"p1701\"},\"x_scale\":{\"type\":\"object\",\"name\":\"LinearScale\",\"id\":\"p1709\"},\"y_scale\":{\"type\":\"object\",\"name\":\"LinearScale\",\"id\":\"p1710\"},\"title\":{\"type\":\"object\",\"name\":\"Title\",\"id\":\"p1702\",\"attributes\":{\"text\":\"SF District Crimes: Dynamic Axis & Circle Size\"}},\"renderers\":[{\"type\":\"object\",\"name\":\"GlyphRenderer\",\"id\":\"p1738\",\"attributes\":{\"data_source\":{\"id\":\"p1634\"},\"view\":{\"type\":\"object\",\"name\":\"CDSView\",\"id\":\"p1739\",\"attributes\":{\"filter\":{\"type\":\"object\",\"name\":\"AllIndices\",\"id\":\"p1740\"}}},\"glyph\":{\"type\":\"object\",\"name\":\"Scatter\",\"id\":\"p1735\",\"attributes\":{\"x\":{\"type\":\"field\",\"field\":\"x\"},\"y\":{\"type\":\"field\",\"field\":\"y\"},\"size\":{\"type\":\"field\",\"field\":\"size\"},\"fill_color\":{\"type\":\"value\",\"value\":\"dodgerblue\"},\"fill_alpha\":{\"type\":\"value\",\"value\":0.6},\"hatch_color\":{\"type\":\"value\",\"value\":\"dodgerblue\"}}},\"nonselection_glyph\":{\"type\":\"object\",\"name\":\"Scatter\",\"id\":\"p1736\",\"attributes\":{\"x\":{\"type\":\"field\",\"field\":\"x\"},\"y\":{\"type\":\"field\",\"field\":\"y\"},\"size\":{\"type\":\"field\",\"field\":\"size\"},\"line_alpha\":{\"type\":\"value\",\"value\":0.1},\"fill_color\":{\"type\":\"value\",\"value\":\"dodgerblue\"},\"fill_alpha\":{\"type\":\"value\",\"value\":0.1},\"hatch_color\":{\"type\":\"value\",\"value\":\"dodgerblue\"},\"hatch_alpha\":{\"type\":\"value\",\"value\":0.1}}},\"muted_glyph\":{\"type\":\"object\",\"name\":\"Scatter\",\"id\":\"p1737\",\"attributes\":{\"x\":{\"type\":\"field\",\"field\":\"x\"},\"y\":{\"type\":\"field\",\"field\":\"y\"},\"size\":{\"type\":\"field\",\"field\":\"size\"},\"line_alpha\":{\"type\":\"value\",\"value\":0.2},\"fill_color\":{\"type\":\"value\",\"value\":\"dodgerblue\"},\"fill_alpha\":{\"type\":\"value\",\"value\":0.2},\"hatch_color\":{\"type\":\"value\",\"value\":\"dodgerblue\"},\"hatch_alpha\":{\"type\":\"value\",\"value\":0.2}}}}}],\"toolbar\":{\"type\":\"object\",\"name\":\"Toolbar\",\"id\":\"p1708\",\"attributes\":{\"tools\":[{\"type\":\"object\",\"name\":\"PanTool\",\"id\":\"p1721\"},{\"type\":\"object\",\"name\":\"BoxZoomTool\",\"id\":\"p1722\",\"attributes\":{\"overlay\":{\"type\":\"object\",\"name\":\"BoxAnnotation\",\"id\":\"p1723\",\"attributes\":{\"syncable\":false,\"line_color\":\"black\",\"line_alpha\":1.0,\"line_width\":2,\"line_dash\":[4,4],\"fill_color\":\"lightgrey\",\"fill_alpha\":0.5,\"level\":\"overlay\",\"visible\":false,\"left\":{\"type\":\"number\",\"value\":\"nan\"},\"right\":{\"type\":\"number\",\"value\":\"nan\"},\"top\":{\"type\":\"number\",\"value\":\"nan\"},\"bottom\":{\"type\":\"number\",\"value\":\"nan\"},\"left_units\":\"canvas\",\"right_units\":\"canvas\",\"top_units\":\"canvas\",\"bottom_units\":\"canvas\",\"handles\":{\"type\":\"object\",\"name\":\"BoxInteractionHandles\",\"id\":\"p1729\",\"attributes\":{\"all\":{\"type\":\"object\",\"name\":\"AreaVisuals\",\"id\":\"p1728\",\"attributes\":{\"fill_color\":\"white\",\"hover_fill_color\":\"lightgray\"}}}}}}}},{\"type\":\"object\",\"name\":\"ResetTool\",\"id\":\"p1730\"},{\"type\":\"object\",\"name\":\"SaveTool\",\"id\":\"p1731\"}]}},\"left\":[{\"type\":\"object\",\"name\":\"LinearAxis\",\"id\":\"p1716\",\"attributes\":{\"ticker\":{\"type\":\"object\",\"name\":\"BasicTicker\",\"id\":\"p1717\",\"attributes\":{\"mantissas\":[1,2,5]}},\"formatter\":{\"type\":\"object\",\"name\":\"BasicTickFormatter\",\"id\":\"p1718\"},\"axis_label\":\"BURGLARY\",\"major_label_policy\":{\"type\":\"object\",\"name\":\"AllLabels\",\"id\":\"p1719\"}}}],\"below\":[{\"type\":\"object\",\"name\":\"LinearAxis\",\"id\":\"p1711\",\"attributes\":{\"ticker\":{\"type\":\"object\",\"name\":\"BasicTicker\",\"id\":\"p1712\",\"attributes\":{\"mantissas\":[1,2,5]}},\"formatter\":{\"type\":\"object\",\"name\":\"BasicTickFormatter\",\"id\":\"p1713\"},\"axis_label\":\"ASSAULT\",\"major_label_policy\":{\"type\":\"object\",\"name\":\"AllLabels\",\"id\":\"p1714\"}}}],\"center\":[{\"type\":\"object\",\"name\":\"Grid\",\"id\":\"p1715\",\"attributes\":{\"axis\":{\"id\":\"p1711\"}}},{\"type\":\"object\",\"name\":\"Grid\",\"id\":\"p1720\",\"attributes\":{\"dimension\":1,\"axis\":{\"id\":\"p1716\"}}}]}}]]},\"code\":\"\\n// Retrieve master (all crimes) and the smaller plotting data\\nconst masterData = source_master.data;\\nconst plotData   = source_plot.data;\\n\\n// The newly selected crimes\\nvar xCrime = dropdown_x.value;\\nvar yCrime = dropdown_y.value;\\n\\n// Update x, y columns in plotData\\nfor (let i = 0; i < masterData['PdDistrict'].length; i++) {\\n    plotData['x'][i] = masterData[xCrime][i];\\n    plotData['y'][i] = masterData[yCrime][i];\\n}\\n\\n// Optionally recalculate the circle size (e.g. from 'TOTAL').\\nfor (let i = 0; i < masterData['PdDistrict'].length; i++) {\\n    // Example: scale circle size by TOTAL, but you could do something more elaborate\\n    // e.g., an average of xCrime and yCrime, etc.\\n    plotData['size'][i] = masterData['TOTAL'][i] / 100.0;\\n}\\n\\n// We changed the data, so let Bokeh know\\nsource_plot.change.emit();\\n\\n// -------------------------------\\n// Axis Label Updates\\n// We have the figure reference as 'figRef' in our args\\n// so we can set the axis labels dynamically\\n// Bokeh stores them in figRef.xaxis[0], figRef.yaxis[0].\\nfigRef.xaxis[0].axis_label = xCrime;\\nfigRef.yaxis[0].axis_label = yCrime;\\n\"}}]]]},\"title\":\"X Crime\",\"options\":[\"WEAPON LAWS\",\"PROSTITUTION\",\"ROBBERY\",\"BURGLARY\",\"ASSAULT\",\"DRUG/NARCOTIC\",\"LARCENY/THEFT\",\"VANDALISM\",\"VEHICLE THEFT\",\"STOLEN PROPERTY\"],\"value\":\"ASSAULT\"}},{\"id\":\"p1742\"}]}},{\"id\":\"p1699\"}]}}]}};\n  const render_items = [{\"docid\":\"75c09b84-7902-4f78-b97f-288acba55285\",\"roots\":{\"p1745\":\"dd0ddd24-1b54-4c36-8ed2-3e92a2c4ba89\"},\"root_ids\":[\"p1745\"]}];\n  void root.Bokeh.embed.embed_items_notebook(docs_json, render_items);\n  }\n  if (root.Bokeh !== undefined) {\n    embed_document(root);\n  } else {\n    let attempts = 0;\n    const timer = setInterval(function(root) {\n      if (root.Bokeh !== undefined) {\n        clearInterval(timer);\n        embed_document(root);\n      } else {\n        attempts++;\n        if (attempts > 100) {\n          clearInterval(timer);\n          console.log(\"Bokeh: ERROR: Unable to run BokehJS code because BokehJS library is missing\");\n        }\n      }\n    }, 10, root)\n  }\n})(window);",
      "application/vnd.bokehjs_exec.v0+json": ""
     },
     "metadata": {
      "application/vnd.bokehjs_exec.v0+json": {
       "id": "p1745"
      }
     },
     "output_type": "display_data"
    }
   ],
   "source": [
    "layout = column(\n",
    "    row(dropdown_x, dropdown_y),\n",
    "    p\n",
    ")\n",
    "\n",
    "show(layout)"
   ]
  },
  {
   "cell_type": "markdown",
   "metadata": {},
   "source": [
    "## Part 3: Narrative Dataviz\n",
    "\n",
    "Let's finish up with some reading\n",
    "\n",
    "*Reading*: [Narrative Visualization: Telling Stories with Data](http://vis.stanford.edu/files/2010-Narrative-InfoVis.pdf) by Edward Segel and Jeffrey Heer. We'll read section 1-3 today. (And the rest a bit later).\n",
    "\n",
    "When you get to section 3 it's fun to open up the examples mentioned by the authors in a browser and explore them as you read the text. \n",
    "\n",
    "> *Exercise*: Answer a couple of questions about the paper.\n",
    "> \n",
    "> * What is the *Oxford English Dictionary's* defintion of a narrative?\n",
    "> * What is your favorite visualization among the examples in section 3? Explain why in a few words.\n",
    "\n",
    "<div class=\"alert alert-block alert-info\">\n",
    "For this one, read the text with your human brain and try to answer on your own too.\n",
    "</div>"
   ]
  },
  {
   "cell_type": "markdown",
   "metadata": {},
   "source": [
    "#### Definition of a narrative\n",
    "Before delving into their case studies, Segel and Heer clarify what they mean by “narrative.” They cite the Oxford English Dictionary definition of “narrative” as “an account of a series of events, facts, etc., given in order and with the establishing of connections between them.”​. Central to this definition is the idea of an ordered sequence with causal or thematic connections – essentially a chain that links events or facts into a coherent story. This notion informs the paper’s perspective that a data visualization can be narrative if it presents information in a sequenced, connected manner to tell a story​"
   ]
  },
  {
   "cell_type": "markdown",
   "metadata": {},
   "source": [
    "## My favourite casestudy\n",
    "\n",
    "Among the Section 3 case studies, one visualization that stands out as a particularly effective example of narrative visualization is the Gapminder “Human Development Trends” presentation (case study 3.4). This example excels in storytelling, interactivity, and user engagement, illustrating how to artfully combine an author-driven narrative with interactive exploration.\n",
    "\n",
    "- **Storytelling**: The Gapminder presentation is essentially a story told with data. It carefully constructs a narrative arc for each topic – guiding the viewer from a general introduction to specific insights. Through on-screen text and voiceover-like annotations, it identifies key trends (for instance, highlighting how “the last 30 years changed the face of global poverty” as the data animates to show poverty shifting from Asia to Africa)​. The storytelling is clear and purposeful: the authors chose particular data indicators and time spans that support the “major conclusions” of the UN report, and they present them in a logical sequence (e.g., first showing overall health and wealth improvements, then revealing disparities by region). By the end of each section, the viewer has essentially been told a mini-story with a beginning, middle, and end – for example, a setup (“In the 1970s most poor lived in Asia…”), a development (“Now Africa is home to one-third of the poor…”), and a forward-looking conclusion (“By 2015, Africa will account for the majority…”). This narrative structure ensures that users come away with memorable insights, not just raw numbers. In terms of classic storytelling elements, Gapminder provides context, conflict (e.g. the surprising shifts or disparities in the data), and resolution (projections or implications for the future), all grounded in the visual evidence. \n",
    "\n",
    "- **Interactivity**: What makes Gapminder’s narrative truly engaging is the way it incorporates interactivity as part of the story. Rather than simply telling a static story or, conversely, dropping users into a free-form tool, it blends the two approaches. In the initial narrative phase, the user is mostly a passive observer, watching the guided animations and reading annotations. But at key junctures, the visualization invites the user to get involved. For example, after demonstrating a trend with animated charts, the interface might introduce a timeline slider or other controls and encourage the viewer to explore further (“Use the timebar to see people in Asia moving out of poverty” is one prompt given in the presentation). This martini-glass structure – a tight narrative followed by an open exploration – is highly effective here. It ensures the user isn’t lost; they’ve been oriented and primed by the story, so when interactive elements appear, the user has a good idea what to look for or what questions to ask. Moreover, the interactivity is designed to reinforce the narrative’s themes. In Gapminder, any interactive exploration still uses the same visual encodings and data that were introduced in the story, so when users play with the controls, they are essentially revisiting the story’s evidence from different angles. This keeps the experience cohesive. Technically, the interactivity is smooth and intuitive (e.g., clicking through slides, moving a slider, or mousing over a bubble for details), so it doesn’t distract or frustrate the audience; instead, it empowers them to investigate the data on their own terms. \n",
    "\n",
    "- **User Engagement**: The combination of strong narrative guidance and inviting interactivity leads to high user engagement. Because the presentation is user-paced, viewers remain active – they click “forward” to progress, which is a mild interaction in itself that keeps them involved. The frequent use of visual highlights and questions in the annotations keeps viewers thinking (“Why is this region lagging?” or “Notice how this bar grows…”). When the user is prompted to try an interactive feature, it feels like a natural next step in the story, which likely piques their curiosity rather than feeling like “homework.” In Gapminder’s case, the user engagement is also emotional and intellectual: Hans Rosling’s style (even if not delivered in person here) often frames the data in terms of human development achievements or crises, which can hook the viewer’s interest in the outcome. By letting the user “use the story as a starting point for his own exploration”, the visualization makes the audience an active participant in the narrative. This participatory element can increase engagement significantly – users are more likely to remember and care about insights they personally uncovered, even if the author carefully led them to that point. In summary, the Gapminder visualization stands out because it masters the balance between author-driven storytelling and reader-driven interaction. It tells a compelling data story (so the message is clear), uses interactivity to deepen understanding (not just for novelty’s sake), and keeps users both informed and interested. The effectiveness is evident in how seamlessly the story flows and how naturally the viewer is drawn into “playing” with the data, achieving the ultimate goal of narrative visualization: to connect with the audience and communicate insights in an engaging way."
   ]
  }
 ],
 "metadata": {
  "kernelspec": {
   "display_name": "ML",
   "language": "python",
   "name": "python3"
  },
  "language_info": {
   "codemirror_mode": {
    "name": "ipython",
    "version": 3
   },
   "file_extension": ".py",
   "mimetype": "text/x-python",
   "name": "python",
   "nbconvert_exporter": "python",
   "pygments_lexer": "ipython3",
   "version": "3.12.1"
  }
 },
 "nbformat": 4,
 "nbformat_minor": 4
}
